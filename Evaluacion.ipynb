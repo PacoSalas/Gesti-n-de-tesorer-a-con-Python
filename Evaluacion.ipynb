{
 "cells": [
  {
   "cell_type": "markdown",
   "metadata": {},
   "source": [
    "# PYTHON PARA GESTIÓN DE TESORERÍA"
   ]
  },
  {
   "cell_type": "markdown",
   "metadata": {},
   "source": [
    "# Ejercicios de evaluación"
   ]
  },
  {
   "cell_type": "markdown",
   "metadata": {},
   "source": [
    "Enviar notebook **NombreAlumno.ipynb** al e-mail **frasamo@doctor.upv.es**\n",
    "\n",
    "Fecha tope envío 22 diciembre 2017."
   ]
  },
  {
   "cell_type": "markdown",
   "metadata": {},
   "source": [
    "** Ejercicio 1 (Numpy y Pandas)** Crea una vector **x** con 20 valores aleatorios enteros entre -10 y 10, ambos inclusive. Convierte el vector en una  matriz **M** de 5 filas y 4 columnas. Transforma la matriz en un DataFrame llamado **df** con los siguientes nombres de columnas Col1, Col2, Col3 y Col4. Crea un rango de fechas que empiece el 2018-01-01 de 5 periodos y frecuencia díaria. Utiliza este rango de fechas como índice del DataFrame. Finalmente añade una columna nueva Col5 que contenga la suma de las columnas Col3 y Col4. "
   ]
  },
  {
   "cell_type": "code",
   "execution_count": 1,
   "metadata": {
    "collapsed": true
   },
   "outputs": [],
   "source": [
    "import numpy as np\n",
    "import pandas as pd"
   ]
  },
  {
   "cell_type": "code",
   "execution_count": 9,
   "metadata": {
    "collapsed": false
   },
   "outputs": [
    {
     "data": {
      "text/plain": [
       "array([ 10,  -2,  10,  -2,  -5,   4,  10,   9,   1,   3,   7,  -5,   7,\n",
       "         4,  -8,  -3, -10,   0,   1,   9])"
      ]
     },
     "execution_count": 9,
     "metadata": {},
     "output_type": "execute_result"
    }
   ],
   "source": [
    "x = np.random.randint(-10, 11, size=20)\n",
    "x"
   ]
  },
  {
   "cell_type": "code",
   "execution_count": 10,
   "metadata": {
    "collapsed": false
   },
   "outputs": [
    {
     "data": {
      "text/plain": [
       "array([[ 10,  -2,  10,  -2],\n",
       "       [ -5,   4,  10,   9],\n",
       "       [  1,   3,   7,  -5],\n",
       "       [  7,   4,  -8,  -3],\n",
       "       [-10,   0,   1,   9]])"
      ]
     },
     "execution_count": 10,
     "metadata": {},
     "output_type": "execute_result"
    }
   ],
   "source": [
    "M = x.reshape((5,4))\n",
    "M"
   ]
  },
  {
   "cell_type": "code",
   "execution_count": 11,
   "metadata": {
    "collapsed": false
   },
   "outputs": [
    {
     "data": {
      "text/html": [
       "<div>\n",
       "<style>\n",
       "    .dataframe thead tr:only-child th {\n",
       "        text-align: right;\n",
       "    }\n",
       "\n",
       "    .dataframe thead th {\n",
       "        text-align: left;\n",
       "    }\n",
       "\n",
       "    .dataframe tbody tr th {\n",
       "        vertical-align: top;\n",
       "    }\n",
       "</style>\n",
       "<table border=\"1\" class=\"dataframe\">\n",
       "  <thead>\n",
       "    <tr style=\"text-align: right;\">\n",
       "      <th></th>\n",
       "      <th>Col1</th>\n",
       "      <th>Col2</th>\n",
       "      <th>Col3</th>\n",
       "      <th>Col4</th>\n",
       "    </tr>\n",
       "  </thead>\n",
       "  <tbody>\n",
       "    <tr>\n",
       "      <th>0</th>\n",
       "      <td>10</td>\n",
       "      <td>-2</td>\n",
       "      <td>10</td>\n",
       "      <td>-2</td>\n",
       "    </tr>\n",
       "    <tr>\n",
       "      <th>1</th>\n",
       "      <td>-5</td>\n",
       "      <td>4</td>\n",
       "      <td>10</td>\n",
       "      <td>9</td>\n",
       "    </tr>\n",
       "    <tr>\n",
       "      <th>2</th>\n",
       "      <td>1</td>\n",
       "      <td>3</td>\n",
       "      <td>7</td>\n",
       "      <td>-5</td>\n",
       "    </tr>\n",
       "    <tr>\n",
       "      <th>3</th>\n",
       "      <td>7</td>\n",
       "      <td>4</td>\n",
       "      <td>-8</td>\n",
       "      <td>-3</td>\n",
       "    </tr>\n",
       "    <tr>\n",
       "      <th>4</th>\n",
       "      <td>-10</td>\n",
       "      <td>0</td>\n",
       "      <td>1</td>\n",
       "      <td>9</td>\n",
       "    </tr>\n",
       "  </tbody>\n",
       "</table>\n",
       "</div>"
      ],
      "text/plain": [
       "   Col1  Col2  Col3  Col4\n",
       "0    10    -2    10    -2\n",
       "1    -5     4    10     9\n",
       "2     1     3     7    -5\n",
       "3     7     4    -8    -3\n",
       "4   -10     0     1     9"
      ]
     },
     "execution_count": 11,
     "metadata": {},
     "output_type": "execute_result"
    }
   ],
   "source": [
    "df = pd.DataFrame(M, columns=['Col1', 'Col2', 'Col3', 'Col4'])\n",
    "df"
   ]
  },
  {
   "cell_type": "code",
   "execution_count": 13,
   "metadata": {
    "collapsed": false
   },
   "outputs": [
    {
     "data": {
      "text/plain": [
       "DatetimeIndex(['2018-01-01', '2018-01-02', '2018-01-03', '2018-01-04',\n",
       "               '2018-01-05'],\n",
       "              dtype='datetime64[ns]', freq='D')"
      ]
     },
     "execution_count": 13,
     "metadata": {},
     "output_type": "execute_result"
    }
   ],
   "source": [
    "fechas = pd.date_range('2018-01-01', periods=5, freq='D')\n",
    "fechas"
   ]
  },
  {
   "cell_type": "code",
   "execution_count": 14,
   "metadata": {
    "collapsed": false
   },
   "outputs": [
    {
     "data": {
      "text/html": [
       "<div>\n",
       "<style>\n",
       "    .dataframe thead tr:only-child th {\n",
       "        text-align: right;\n",
       "    }\n",
       "\n",
       "    .dataframe thead th {\n",
       "        text-align: left;\n",
       "    }\n",
       "\n",
       "    .dataframe tbody tr th {\n",
       "        vertical-align: top;\n",
       "    }\n",
       "</style>\n",
       "<table border=\"1\" class=\"dataframe\">\n",
       "  <thead>\n",
       "    <tr style=\"text-align: right;\">\n",
       "      <th></th>\n",
       "      <th>Col1</th>\n",
       "      <th>Col2</th>\n",
       "      <th>Col3</th>\n",
       "      <th>Col4</th>\n",
       "    </tr>\n",
       "  </thead>\n",
       "  <tbody>\n",
       "    <tr>\n",
       "      <th>2018-01-01</th>\n",
       "      <td>10</td>\n",
       "      <td>-2</td>\n",
       "      <td>10</td>\n",
       "      <td>-2</td>\n",
       "    </tr>\n",
       "    <tr>\n",
       "      <th>2018-01-02</th>\n",
       "      <td>-5</td>\n",
       "      <td>4</td>\n",
       "      <td>10</td>\n",
       "      <td>9</td>\n",
       "    </tr>\n",
       "    <tr>\n",
       "      <th>2018-01-03</th>\n",
       "      <td>1</td>\n",
       "      <td>3</td>\n",
       "      <td>7</td>\n",
       "      <td>-5</td>\n",
       "    </tr>\n",
       "    <tr>\n",
       "      <th>2018-01-04</th>\n",
       "      <td>7</td>\n",
       "      <td>4</td>\n",
       "      <td>-8</td>\n",
       "      <td>-3</td>\n",
       "    </tr>\n",
       "    <tr>\n",
       "      <th>2018-01-05</th>\n",
       "      <td>-10</td>\n",
       "      <td>0</td>\n",
       "      <td>1</td>\n",
       "      <td>9</td>\n",
       "    </tr>\n",
       "  </tbody>\n",
       "</table>\n",
       "</div>"
      ],
      "text/plain": [
       "            Col1  Col2  Col3  Col4\n",
       "2018-01-01    10    -2    10    -2\n",
       "2018-01-02    -5     4    10     9\n",
       "2018-01-03     1     3     7    -5\n",
       "2018-01-04     7     4    -8    -3\n",
       "2018-01-05   -10     0     1     9"
      ]
     },
     "execution_count": 14,
     "metadata": {},
     "output_type": "execute_result"
    }
   ],
   "source": [
    "df.index = fechas\n",
    "df"
   ]
  },
  {
   "cell_type": "code",
   "execution_count": 16,
   "metadata": {
    "collapsed": false
   },
   "outputs": [
    {
     "data": {
      "text/html": [
       "<div>\n",
       "<style>\n",
       "    .dataframe thead tr:only-child th {\n",
       "        text-align: right;\n",
       "    }\n",
       "\n",
       "    .dataframe thead th {\n",
       "        text-align: left;\n",
       "    }\n",
       "\n",
       "    .dataframe tbody tr th {\n",
       "        vertical-align: top;\n",
       "    }\n",
       "</style>\n",
       "<table border=\"1\" class=\"dataframe\">\n",
       "  <thead>\n",
       "    <tr style=\"text-align: right;\">\n",
       "      <th></th>\n",
       "      <th>Col1</th>\n",
       "      <th>Col2</th>\n",
       "      <th>Col3</th>\n",
       "      <th>Col4</th>\n",
       "      <th>Col5</th>\n",
       "    </tr>\n",
       "  </thead>\n",
       "  <tbody>\n",
       "    <tr>\n",
       "      <th>2018-01-01</th>\n",
       "      <td>10</td>\n",
       "      <td>-2</td>\n",
       "      <td>10</td>\n",
       "      <td>-2</td>\n",
       "      <td>8</td>\n",
       "    </tr>\n",
       "    <tr>\n",
       "      <th>2018-01-02</th>\n",
       "      <td>-5</td>\n",
       "      <td>4</td>\n",
       "      <td>10</td>\n",
       "      <td>9</td>\n",
       "      <td>19</td>\n",
       "    </tr>\n",
       "    <tr>\n",
       "      <th>2018-01-03</th>\n",
       "      <td>1</td>\n",
       "      <td>3</td>\n",
       "      <td>7</td>\n",
       "      <td>-5</td>\n",
       "      <td>2</td>\n",
       "    </tr>\n",
       "    <tr>\n",
       "      <th>2018-01-04</th>\n",
       "      <td>7</td>\n",
       "      <td>4</td>\n",
       "      <td>-8</td>\n",
       "      <td>-3</td>\n",
       "      <td>-11</td>\n",
       "    </tr>\n",
       "    <tr>\n",
       "      <th>2018-01-05</th>\n",
       "      <td>-10</td>\n",
       "      <td>0</td>\n",
       "      <td>1</td>\n",
       "      <td>9</td>\n",
       "      <td>10</td>\n",
       "    </tr>\n",
       "  </tbody>\n",
       "</table>\n",
       "</div>"
      ],
      "text/plain": [
       "            Col1  Col2  Col3  Col4  Col5\n",
       "2018-01-01    10    -2    10    -2     8\n",
       "2018-01-02    -5     4    10     9    19\n",
       "2018-01-03     1     3     7    -5     2\n",
       "2018-01-04     7     4    -8    -3   -11\n",
       "2018-01-05   -10     0     1     9    10"
      ]
     },
     "execution_count": 16,
     "metadata": {},
     "output_type": "execute_result"
    }
   ],
   "source": [
    "df['Col5'] = df['Col3'] + df['Col4']\n",
    "df"
   ]
  },
  {
   "cell_type": "markdown",
   "metadata": {},
   "source": [
    "**Ejercicio 2 (Modelo Miller-Orr).** Una variante del modelo de Miller-Orr basado en tres niveles propone ejecutar acciones de control al final del día cuando el flujo de caja $f_t$ ya es conocido de acuerdo con la ecuación:\n",
    "\n",
    "\\begin{equation}\n",
    "x_t=\\left\\{\\begin{array}{lll}Z-b_{t-1}-f_t & \\mbox{if} & b_{t-1} + f_t > H \\\\ 0 &\\mbox{if} & L \\leq b_{t-1} + f_t \\leq H  \\\\Z-b_{t-1}-f_t & \\mbox{if} & b_{t-1} + f_t < L \\end{array}\\right.\n",
    "\\end{equation}\n",
    "\n",
    "Esta estrategia supone que cuando el saldo alcanza el nivel de control superior $H$ o el nivel de control inferior $L$, se ejecuta una acción de control para llevar el saldo al nivel $Z$. Esta acción de control se toma al final de cada instante de tiempo $t$ y el saldo $b_t$ se actualiza según la ecuación:\n",
    "\n",
    "\\begin{equation}\n",
    "b_{t} = b_{t-1} + x_t + f_t\n",
    "\\end{equation}\n",
    "\n",
    "Por precaución, podemos fijar un límite inferior $L$ que sea proporcional a la desviación típica $\\sigma$ del flujo de caja considerado \n",
    "\n",
    "\\begin{equation}\n",
    "L = \\xi \\cdot \\sigma\n",
    "\\end{equation}\n",
    "\n",
    "donde $\\xi$ es un parámetro que refleja la aversión al riesgo del tesorero. Cuanto mayor es $\\xi$, más alto será el límite inferior $L$ y por tanto más conservador. Un valor típico de $\\xi$ es 2 o 3 de manera que exista una probabilidad de 0.95 o 0.99 respectivamente de que el saldo pueda pasar a ser negativo desde $L$ al añadir un flujo de caja aleatorio normal de media cero y desviación típica $\\sigma$. A partir de $L$, podemos fijar los límites $Z$ and $H$ según las fórmulas propuestas por Miller-Orr:\n",
    "\n",
    "\\begin{equation}\n",
    "Z=L+\\left(\\frac{3 \\cdot \\gamma_0 \\cdot \\sigma^2}{4 \\cdot v}\\right)^{1/3}\n",
    "\\end{equation}\n",
    "\n",
    "\\begin{equation}\n",
    "H=3 \\cdot Z-2 \\cdot L\n",
    "\\end{equation}\n",
    "\n",
    "donde $\\gamma_0$ es un coste fijo de transacción y $v$ es el coste de mantenimiento (o de oportunidad) por mantener efectivo en la cuenta.\n",
    "\n",
    "Dado un flujo de caja aleatorio normal con media cero y desviación típica 1 millón de euros, un coste de mantenimiento por día de $v = 0.02$ %, un coste fijo de transacción $\\gamma_0= 5$ euros tanto para transacciones positivas y negativas y un valor de $\\xi = 2$ para el parámetro de riesgo:\n",
    "\n",
    "a) Calcular los límites de control **H**, **Z**, y **L**.\n",
    "\n",
    "b) Genera un flujo de caja aleatorio **flow** con media cero y desviación típica 1 millón de euros para un horizonte de 100 días.\n",
    "\n",
    "c) Define una función **transfer** para obtener la acción $x_t$ a partir de **H**, **Z**, y **L** para un saldo previo $b_{t-1}$ y un flujo de caja $f_t$ para el instante $t$.\n",
    "\n",
    "d) Utiliza la función **transfer** para obtener la secuencia de acciones de control $X$ y el saldo resultante $B$ para un horizonte de 100 días partiendo de un saldo inicial igual a $Z$.\n",
    "\n",
    "e) Representa gráficamente el saldo $B$ resultante de aplicar las acciones de control $X$ mediante una línea de puntos color negro. Añade la etiqueta \"Días\" al eje x y la etiqueta \"Saldo\" al eje y."
   ]
  },
  {
   "cell_type": "code",
   "execution_count": 1,
   "metadata": {
    "collapsed": false
   },
   "outputs": [
    {
     "data": {
      "text/plain": [
       "(2796993.926886957, 2265664.6422956525, 2000000)"
      ]
     },
     "execution_count": 1,
     "metadata": {},
     "output_type": "execute_result"
    }
   ],
   "source": [
    "# a) Cálculo de los límites H, Z, y L\n",
    "\n",
    "sigma = 1000000\n",
    "xi = 2\n",
    "g0 = 5\n",
    "v = 0.0002\n",
    "L = xi * sigma\n",
    "Z = L + ((3 * g0 * sigma ** 2)/(4 * v)) ** (1/3)  \n",
    "H = 3 * Z - 2 * L\n",
    "H, Z, L"
   ]
  },
  {
   "cell_type": "code",
   "execution_count": 19,
   "metadata": {
    "collapsed": true
   },
   "outputs": [],
   "source": [
    "# b) Flujo de caja aleatorio con media cero y sigma 1000000\n",
    "flow = np.random.normal(0, sigma, size=100)"
   ]
  },
  {
   "cell_type": "code",
   "execution_count": 20,
   "metadata": {
    "collapsed": true
   },
   "outputs": [],
   "source": [
    "# c) Definición de transfer a partir de saldo previo y flujo de caja\n",
    "def transfer(h, z, l, b0, f):\n",
    "    if b0 + f > h or b0 + f < l:\n",
    "        x = z - b0 - f\n",
    "    else:\n",
    "        x = 0\n",
    "    return(x)"
   ]
  },
  {
   "cell_type": "code",
   "execution_count": 21,
   "metadata": {
    "collapsed": true
   },
   "outputs": [],
   "source": [
    "# d) Obetener secuencia X y saldo B\n",
    "X = []\n",
    "B = []\n",
    "inibal = Z\n",
    "for elem in flow:\n",
    "    x = transfer(H, Z, L, inibal, elem)\n",
    "    X.append(x)\n",
    "    bal = inibal + x + elem\n",
    "    B.append(bal)\n",
    "    inibal = bal"
   ]
  },
  {
   "cell_type": "code",
   "execution_count": 22,
   "metadata": {
    "collapsed": true
   },
   "outputs": [],
   "source": [
    "import matplotlib.pyplot as plt\n",
    "%matplotlib inline"
   ]
  },
  {
   "cell_type": "code",
   "execution_count": 25,
   "metadata": {
    "collapsed": false
   },
   "outputs": [
    {
     "data": {
      "image/png": "[encoded data removed]",
      "text/plain": [
       "<matplotlib.figure.Figure at 0x251b762ff98>"
      ]
     },
     "metadata": {},
     "output_type": "display_data"
    }
   ],
   "source": [
    "# e) Representar saldo B\n",
    "t = range(100)\n",
    "plt.plot(t, B, 'k:')\n",
    "plt.xlabel('Tiempo')\n",
    "plt.ylabel('Saldo')\n",
    "plt.show()"
   ]
  },
  {
   "cell_type": "markdown",
   "metadata": {},
   "source": [
    "**Ejercicio 3 (Propuesta).** Propón un ejercicio para aplicar alguno de los conceptos explicados en las sesiones de Gestión de Tesorería con Python incluyendo las siguientes características:\n",
    "\n",
    "- La definición de una función\n",
    "- La visualización mediante un gráfico del resultado"
   ]
  }
 ],
 "metadata": {
  "kernelspec": {
   "display_name": "Python 3",
   "language": "python",
   "name": "python3"
  },
  "language_info": {
   "codemirror_mode": {
    "name": "ipython",
    "version": 3
   },
   "file_extension": ".py",
   "mimetype": "text/x-python",
   "name": "python",
   "nbconvert_exporter": "python",
   "pygments_lexer": "ipython3",
   "version": "3.5.4"
  }
 },
 "nbformat": 4,
 "nbformat_minor": 2
}
