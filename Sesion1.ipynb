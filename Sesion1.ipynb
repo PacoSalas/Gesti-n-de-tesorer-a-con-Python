{
 "cells": [
  {
   "cell_type": "markdown",
   "metadata": {},
   "source": [
    "# Sesión 1. Introducción a Python para finanzas"
   ]
  },
  {
   "cell_type": "markdown",
   "metadata": {},
   "source": [
    "- ¿Por qué Python? Porque es gratuito, porque es open-source, porque está de moda https://lectures.quantecon.org/py/about_py.html\n",
    "\n",
    "- Otras ventajas: lenguaje de alto nivel, fácil de entender y de aprender por el usuario\n",
    "\n",
    "- Herramienta básica: IPython Notebooks o jupyter\n",
    "\n",
    "- Algunas referencias: https://en.wikipedia.org/wiki/IPython\n",
    "\n",
    "- Plan A: descargar Anaconda e instalar en local.\n",
    "\n",
    "- Plan B: Jupyter https://jupyter.org/ \n",
    "\n",
    "- Si falla el servidor de Jupyter Plan C: ir a Python Quants https://analytics.quant-platform.com/nb/portal/login\n",
    "\n",
    "- Plan D: trabaja con un compañero.\n",
    "\n",
    "- Método Masterchef: el chef va realizando y explicando los pasos de la receta al mismo tiempo que los aspirantes replican estos pasos para conseguir el mismo plato."
   ]
  },
  {
   "cell_type": "markdown",
   "metadata": {},
   "source": [
    "¿Todo en orden? ¿Has conseguido abrir tu primer Notebook de Python en tu navegador? Escribe lo siguiente en la celda: $2+2$ y pulsa simultáneamente las teclas **Shift + Enter**. ¿El resultado es 4? Enhorabuena, ya eres un@ programador@ de Python."
   ]
  },
  {
   "cell_type": "code",
   "execution_count": null,
   "metadata": {
    "collapsed": true
   },
   "outputs": [],
   "source": [
    "# Mi primera línea de código en Python 2+2\n"
   ]
  },
  {
   "cell_type": "code",
   "execution_count": null,
   "metadata": {
    "collapsed": true
   },
   "outputs": [],
   "source": [
    "# Asignación de un valor a una variable a\n"
   ]
  },
  {
   "cell_type": "code",
   "execution_count": null,
   "metadata": {
    "collapsed": true
   },
   "outputs": [],
   "source": [
    "# Una suma"
   ]
  },
  {
   "cell_type": "code",
   "execution_count": null,
   "metadata": {
    "collapsed": true
   },
   "outputs": [],
   "source": [
    "# La instrucción print"
   ]
  },
  {
   "cell_type": "code",
   "execution_count": null,
   "metadata": {
    "collapsed": true
   },
   "outputs": [],
   "source": [
    "# Asignación conjunta de variables"
   ]
  },
  {
   "cell_type": "code",
   "execution_count": null,
   "metadata": {
    "collapsed": true
   },
   "outputs": [],
   "source": [
    "# Intercambio de variables a, b = b, a"
   ]
  },
  {
   "cell_type": "markdown",
   "metadata": {},
   "source": [
    "**Operadores de comparación** >, <, <=, >=, == "
   ]
  },
  {
   "cell_type": "code",
   "execution_count": null,
   "metadata": {
    "collapsed": true
   },
   "outputs": [],
   "source": [
    "# Mayor que"
   ]
  },
  {
   "cell_type": "code",
   "execution_count": null,
   "metadata": {
    "collapsed": true
   },
   "outputs": [],
   "source": [
    "# Menor o igual"
   ]
  },
  {
   "cell_type": "code",
   "execution_count": null,
   "metadata": {
    "collapsed": true
   },
   "outputs": [],
   "source": [
    "# Igual"
   ]
  },
  {
   "cell_type": "code",
   "execution_count": null,
   "metadata": {
    "collapsed": true
   },
   "outputs": [],
   "source": [
    "# Asignación de una variable a otra"
   ]
  },
  {
   "cell_type": "code",
   "execution_count": null,
   "metadata": {
    "collapsed": true
   },
   "outputs": [],
   "source": [
    "# Comprobamos si ahora son iguales"
   ]
  },
  {
   "cell_type": "markdown",
   "metadata": {},
   "source": [
    "**Tipos de celdas**: En los Notebooks de Python, hay cuatro tipos de celdas aunque probablemente trabajarás sólo con dos de ellas: código y texto (markdown). También es posible utilizar los comandos habituales de latex para escribir ecuaciones o importar imágenes.\n",
    "\n",
    "$$\\sum_{t=1}^N \\frac{1}{(1+r)^t}$$"
   ]
  },
  {
   "cell_type": "markdown",
   "metadata": {},
   "source": [
    "**Combinaciones de teclas:**  ,  Esc-a, Esc-b, Esc-d, Tab, Shift+Tab\n",
    "\n",
    "- Shift+Enter:  ejecuta una celda\n",
    "- Alt+Enter: inserta una nueva celda después de la actual (el signo $+$ denota pulsar las dos teclas simultáneamente).\n",
    "- Esc $\\rightarrow$ m: convierte la celda actual en una celda de tipo Markdown (el signo $\\rightarrow$ denota pulsar primero una y luego la otra).\n",
    "- Esc $\\rightarrow$ a: inserta una celda arriba de la actual.\n",
    "- Esc $\\rightarrow$ b: inserta una celda abajo de la actual.\n",
    "- Esc $\\rightarrow$ d $\\rightarrow$d: elimina la celda actual.\n",
    "- Tab: permite mostrar los atributos de un **objeto** para no tener que aprenderlos de memoria.\n",
    "- Shift+Tab: muestra en pantalla la ayuda sobre cualquier **función**."
   ]
  },
  {
   "cell_type": "code",
   "execution_count": null,
   "metadata": {
    "collapsed": true
   },
   "outputs": [],
   "source": [
    "# Prueba con las combinaciones"
   ]
  },
  {
   "cell_type": "markdown",
   "metadata": {},
   "source": [
    "Si las palabras objeto y función no te resultan familiares, no te preocupes. Veremos de qué se trata más adelante. Otro de los aspectos importantes que debes conocer sobre Python es que muchas de las funcionalidades están almacenadas en librerías que hay que importar para poder utilizarse en un Notebook. Puede parecer una tarea pesada pero **tiene su lógica** si tenemos en cuenta que hay centenares de librerías que probablemente no utilizaremos nunca. "
   ]
  },
  {
   "cell_type": "markdown",
   "metadata": {},
   "source": [
    "**Librerías:**: conjunto de funciones. Hay muchísimas librerías, algunas con nombres muy curiosos"
   ]
  },
  {
   "cell_type": "markdown",
   "metadata": {},
   "source": [
    "**¿Python o Picachu?**  ¿Eres capaz de distinguir las librerías de Python de los personajes de Picachu?\n",
    "\n",
    "- pandas\n",
    "- brock\n",
    "- misty\n",
    "- numpy\n",
    "- bokeh\n",
    "- kecleon\n",
    "- feebas\n",
    "- lileep\n",
    "- scikit\n",
    "- matplotlib\n",
    "- spinda\n"
   ]
  },
  {
   "cell_type": "markdown",
   "metadata": {},
   "source": [
    "Algunas de las más importantes son: numpy que contiene las herramientas básicas de cálculo y análisis de datos almacenados en vectores y matrices; matplotlib que permite la visualización de datos mediante gráficos; y pandas que dispone de las estructuras de datos necesarias para la manipulación y visualización avanzada de datos como las series temporales. Entenderás mejor cómo se hace mediante el siguiente ejemplo. Si ejecutamos la línea 1 para calcular $e^1$ sin importar la librería numpy, verás un mensaje de error. Para hacerlo tienes tres opciones: importar sólo la función **exp**; importar todas las funciones de la librería sin asignarle una etiqueta; importar toda la librería y asignarle un nombre. La primera de las opciones te permite importar sólo aquello que vas a necesitar y las otras dos son similares aunque es recomendable añadir un nombre para saber de qué librería procede la función que estás utilizando."
   ]
  },
  {
   "cell_type": "code",
   "execution_count": null,
   "metadata": {
    "collapsed": true
   },
   "outputs": [],
   "source": [
    "#Devuelve un error al hacer print(exp)"
   ]
  },
  {
   "cell_type": "code",
   "execution_count": null,
   "metadata": {
    "collapsed": true
   },
   "outputs": [],
   "source": [
    "#Importa sólo función"
   ]
  },
  {
   "cell_type": "code",
   "execution_count": null,
   "metadata": {
    "collapsed": true
   },
   "outputs": [],
   "source": [
    "#Importa todos los objetos de la librería sin un alias y ejecuta cumsum"
   ]
  },
  {
   "cell_type": "code",
   "execution_count": null,
   "metadata": {
    "collapsed": true
   },
   "outputs": [],
   "source": [
    "#Importa todo con alias"
   ]
  },
  {
   "cell_type": "code",
   "execution_count": null,
   "metadata": {
    "collapsed": true
   },
   "outputs": [],
   "source": [
    "#Lo que se suele hacer es importar todo con un alias para saber de dónde sale la función"
   ]
  },
  {
   "cell_type": "markdown",
   "metadata": {},
   "source": [
    "Una **función** es un conjunto reutilizable de código que recibe uno o varios argumentos de entrada, realiza una serie de acciones, y devuelve uno o varios resultados. En Python, hay funciones previamente definidas como $exp$, que aceptan un argumento como por ejemplo 1 o 0 y que devuelven un resultado, en este caso, 2.718 o 1"
   ]
  },
  {
   "cell_type": "code",
   "execution_count": null,
   "metadata": {
    "collapsed": true
   },
   "outputs": [],
   "source": [
    "# Función exp"
   ]
  },
  {
   "cell_type": "code",
   "execution_count": null,
   "metadata": {
    "collapsed": true
   },
   "outputs": [],
   "source": [
    "# Función linspace(ini,fin, puntos) sobre x. Por ejemplo entre 0 y 2 pi"
   ]
  },
  {
   "cell_type": "code",
   "execution_count": null,
   "metadata": {
    "collapsed": true
   },
   "outputs": [],
   "source": [
    "# Función sin(x) y asingación a y"
   ]
  },
  {
   "cell_type": "code",
   "execution_count": null,
   "metadata": {
    "collapsed": true
   },
   "outputs": [],
   "source": [
    "# Importamos matplotlib y %matplotlib inline"
   ]
  },
  {
   "cell_type": "code",
   "execution_count": null,
   "metadata": {
    "collapsed": true
   },
   "outputs": [],
   "source": [
    "# Representamos la función"
   ]
  },
  {
   "cell_type": "markdown",
   "metadata": {},
   "source": [
    "Pero también puedes definir tus propias funciones. Para ello hay que hablar de la **Indentación de código**. Suena como una operación quirúrgica pero es muy sencillo.  Después de la definición de una función ... dos puntos ... intro ... tabulación automática. El final de la tabulación marca el final de la función."
   ]
  },
  {
   "cell_type": "code",
   "execution_count": null,
   "metadata": {
    "collapsed": true
   },
   "outputs": [],
   "source": [
    "# Función cuadrado de x sin paréntesis"
   ]
  },
  {
   "cell_type": "code",
   "execution_count": null,
   "metadata": {
    "collapsed": true
   },
   "outputs": [],
   "source": [
    "# Ejecuto la función "
   ]
  },
  {
   "cell_type": "code",
   "execution_count": null,
   "metadata": {
    "collapsed": true
   },
   "outputs": [],
   "source": [
    "# También se puede definir sin paréntesis"
   ]
  },
  {
   "cell_type": "markdown",
   "metadata": {},
   "source": [
    "**Trabajando con listas** Otro ejemplo, imagina que tienes una serie de flujos de caja almacenados en una lista y quieres calcular la media de estos valores. ¿Podrías diseñar una función que hiciera esto por ti? En nuestro ejemplo el nombre que hemos elegido es **media** y el argumento es **lista** cuyo nombre también elegimos nosotros."
   ]
  },
  {
   "cell_type": "code",
   "execution_count": null,
   "metadata": {
    "collapsed": true
   },
   "outputs": [],
   "source": [
    "# Una lista es una conjunto ordenado de elementos"
   ]
  },
  {
   "cell_type": "markdown",
   "metadata": {},
   "source": [
    "Mediante un bucle **for**. No te asustes, es sencillo. Un bucle **for** es una instrucción especial presente en todos los lenguajes de programación que permite realizar la misma serie de instrucciones un número determinado de veces que viene dado normalmente por un contador. Lo veremos con más detalle más adelante. De la misma manera que con la función, las instrucciones a realizar de manera iterativa empiezan tras los dos puntos y una tabulación."
   ]
  },
  {
   "cell_type": "code",
   "execution_count": null,
   "metadata": {
    "collapsed": true
   },
   "outputs": [],
   "source": [
    "# Un bucle for para presentar los elementos de la lista"
   ]
  },
  {
   "cell_type": "code",
   "execution_count": null,
   "metadata": {
    "collapsed": true
   },
   "outputs": [],
   "source": [
    "# Un bucle for más bonito añadiendo un 'Elemento='"
   ]
  },
  {
   "cell_type": "code",
   "execution_count": null,
   "metadata": {
    "collapsed": true
   },
   "outputs": [],
   "source": [
    "# Definimos la función media de la lista"
   ]
  },
  {
   "cell_type": "code",
   "execution_count": null,
   "metadata": {
    "collapsed": true
   },
   "outputs": [],
   "source": [
    "# Longitud de la lista"
   ]
  },
  {
   "cell_type": "code",
   "execution_count": null,
   "metadata": {
    "collapsed": true
   },
   "outputs": [],
   "source": [
    "# Suma de los elementos de la lista"
   ]
  },
  {
   "cell_type": "code",
   "execution_count": null,
   "metadata": {
    "collapsed": true
   },
   "outputs": [],
   "source": [
    "# Una forma más sencilla de calcular la media a partir de sum y len"
   ]
  },
  {
   "cell_type": "markdown",
   "metadata": {},
   "source": [
    "Otra función muy útil de una lista es $append$ que te permite añadir elementos al final de una lista. Prueba a añadir un nuevo elemento y vuelve a llamar a la función media. Seguramente el resultado será diferente.\n"
   ]
  },
  {
   "cell_type": "code",
   "execution_count": null,
   "metadata": {
    "collapsed": true
   },
   "outputs": [],
   "source": [
    "# Añado un elemento a la lista"
   ]
  },
  {
   "cell_type": "code",
   "execution_count": null,
   "metadata": {
    "collapsed": true
   },
   "outputs": [],
   "source": [
    "# Accedo a un elemento de la lista"
   ]
  },
  {
   "cell_type": "markdown",
   "metadata": {},
   "source": [
    "**Trabajando con vectores y matrices** Las listas son una de las estructuras de datos más utilizadas en Python, pero hay más, por ejemplo, los vectores, las matrices, las tuplas, los rangos, los diccionarios, las series, los data frames. Más adelante, verás qué ventajas tiene organizar los datos de una determinada manera. De momento, con saber que existen es suficiente.\n",
    "\n",
    "¿Cómo se define un vector o una matriz?  Primero, hay que importar **numpy** si no lo hemos hecho antes. La librería de Python que contiene la mayoría de las funciones para cálculo científico es Numpy, abreviación de **Numerical Python**."
   ]
  },
  {
   "cell_type": "code",
   "execution_count": null,
   "metadata": {},
   "outputs": [],
   "source": [
    "# Ejemplo de un diccionario futbolístico y dic['key']"
   ]
  },
  {
   "cell_type": "code",
   "execution_count": null,
   "metadata": {
    "collapsed": true
   },
   "outputs": [],
   "source": [
    "# Ejemplo de tupla"
   ]
  },
  {
   "cell_type": "code",
   "execution_count": null,
   "metadata": {
    "collapsed": true
   },
   "outputs": [],
   "source": [
    "# Creamos un vector a partir de nuestra lista y lo asignamos a una variable llamada vector"
   ]
  },
  {
   "cell_type": "code",
   "execution_count": null,
   "metadata": {
    "collapsed": true
   },
   "outputs": [],
   "source": [
    "# Longitud del vector"
   ]
  },
  {
   "cell_type": "code",
   "execution_count": null,
   "metadata": {
    "collapsed": true
   },
   "outputs": [],
   "source": [
    "# Concatenación horizontal a partir de una tupla de dos elementos"
   ]
  },
  {
   "cell_type": "code",
   "execution_count": null,
   "metadata": {
    "collapsed": true
   },
   "outputs": [],
   "source": [
    "# Concatenación vertical"
   ]
  },
  {
   "cell_type": "code",
   "execution_count": null,
   "metadata": {
    "collapsed": true
   },
   "outputs": [],
   "source": [
    "# Creo una matriz m de 2 x 3 a partir de una lista de 2 listas"
   ]
  },
  {
   "cell_type": "code",
   "execution_count": null,
   "metadata": {
    "collapsed": true
   },
   "outputs": [],
   "source": [
    "# Presento propiedad dimensión"
   ]
  },
  {
   "cell_type": "code",
   "execution_count": null,
   "metadata": {
    "collapsed": true
   },
   "outputs": [],
   "source": [
    "# Funciones estadísticas sobre la matriz"
   ]
  },
  {
   "cell_type": "markdown",
   "metadata": {},
   "source": [
    "**Indexación de vectores y matrices ** ¿Y qué ocurre si queremos acceder al primer elemento de nuestro vector? Lo primero que debes tener en cuenta es que las operaciones de **indexación en Python empiezan con el cero, no con el uno**. Lo segundo es que para acceder a un determinado elemento de un vector debes escribir el nombre del vector seguido del índice entre corchetes."
   ]
  },
  {
   "cell_type": "code",
   "execution_count": null,
   "metadata": {
    "collapsed": true
   },
   "outputs": [],
   "source": [
    "# Presento el vector"
   ]
  },
  {
   "cell_type": "code",
   "execution_count": null,
   "metadata": {
    "collapsed": true
   },
   "outputs": [],
   "source": [
    "# Accedo al primer elemento"
   ]
  },
  {
   "cell_type": "code",
   "execution_count": null,
   "metadata": {
    "collapsed": true
   },
   "outputs": [],
   "source": [
    "# Accedo al segundo"
   ]
  },
  {
   "cell_type": "code",
   "execution_count": null,
   "metadata": {
    "collapsed": true
   },
   "outputs": [],
   "source": [
    "# Accedo al último"
   ]
  },
  {
   "cell_type": "code",
   "execution_count": null,
   "metadata": {
    "collapsed": true
   },
   "outputs": [],
   "source": [
    "# Accedo a los tres primeros (el primer elemento del rango se incluye, el segundo no)"
   ]
  },
  {
   "cell_type": "code",
   "execution_count": null,
   "metadata": {
    "collapsed": true
   },
   "outputs": [],
   "source": [
    "# Accedo a los dos últimos"
   ]
  },
  {
   "cell_type": "markdown",
   "metadata": {},
   "source": [
    "** Ejercicio** ¿Qué devuelven las siguientes funciones aplicadas sobre el vector? Sin ejecutar el código"
   ]
  },
  {
   "cell_type": "code",
   "execution_count": null,
   "metadata": {
    "collapsed": true
   },
   "outputs": [],
   "source": [
    "vector"
   ]
  },
  {
   "cell_type": "code",
   "execution_count": null,
   "metadata": {
    "collapsed": true
   },
   "outputs": [],
   "source": [
    "vector[1]"
   ]
  },
  {
   "cell_type": "code",
   "execution_count": null,
   "metadata": {
    "collapsed": true
   },
   "outputs": [],
   "source": [
    "vector[0]"
   ]
  },
  {
   "cell_type": "code",
   "execution_count": null,
   "metadata": {
    "collapsed": true
   },
   "outputs": [],
   "source": [
    "vector[0:1]"
   ]
  },
  {
   "cell_type": "code",
   "execution_count": null,
   "metadata": {
    "collapsed": true
   },
   "outputs": [],
   "source": [
    "vector[0:2]"
   ]
  },
  {
   "cell_type": "code",
   "execution_count": null,
   "metadata": {
    "collapsed": true
   },
   "outputs": [],
   "source": [
    "vector[-1]"
   ]
  },
  {
   "cell_type": "code",
   "execution_count": null,
   "metadata": {},
   "outputs": [],
   "source": [
    "vector[1:]"
   ]
  },
  {
   "cell_type": "code",
   "execution_count": null,
   "metadata": {
    "collapsed": true
   },
   "outputs": [],
   "source": [
    "vector[-2:]"
   ]
  },
  {
   "cell_type": "markdown",
   "metadata": {},
   "source": [
    "Al trabajar con **matrices** el procedimiento es muy similar"
   ]
  },
  {
   "cell_type": "code",
   "execution_count": null,
   "metadata": {
    "collapsed": true
   },
   "outputs": [],
   "source": [
    "# Presento la matriz m"
   ]
  },
  {
   "cell_type": "code",
   "execution_count": null,
   "metadata": {
    "collapsed": true
   },
   "outputs": [],
   "source": [
    "# Un elemento"
   ]
  },
  {
   "cell_type": "code",
   "execution_count": null,
   "metadata": {
    "collapsed": true
   },
   "outputs": [],
   "source": [
    "# La primera fila"
   ]
  },
  {
   "cell_type": "code",
   "execution_count": null,
   "metadata": {
    "collapsed": true
   },
   "outputs": [],
   "source": [
    "# La segunda columna"
   ]
  },
  {
   "cell_type": "code",
   "execution_count": null,
   "metadata": {
    "collapsed": true
   },
   "outputs": [],
   "source": [
    "# Matriz traspuesta"
   ]
  },
  {
   "cell_type": "code",
   "execution_count": null,
   "metadata": {
    "collapsed": true
   },
   "outputs": [],
   "source": [
    "# Matriz de ceros"
   ]
  },
  {
   "cell_type": "code",
   "execution_count": null,
   "metadata": {
    "collapsed": true
   },
   "outputs": [],
   "source": [
    "# Matriz de unos"
   ]
  },
  {
   "cell_type": "code",
   "execution_count": null,
   "metadata": {
    "collapsed": true
   },
   "outputs": [],
   "source": [
    "# Matriz de enteros aleatorios entre 0 (inclusive) y 10 (exclusive) con randint de tamaño 9"
   ]
  },
  {
   "cell_type": "code",
   "execution_count": null,
   "metadata": {
    "collapsed": true
   },
   "outputs": [],
   "source": [
    "# Reorganización de la matriz con las dimensiones deseadas"
   ]
  },
  {
   "cell_type": "markdown",
   "metadata": {},
   "source": [
    "**Resumen hasta el momento**\n",
    "\n",
    "- librerías son colecciones de funciones\n",
    "- funciones pequeñas bloques de código para un objetivo determinado\n",
    "- listas y el método append\n",
    "- vectores y matrices"
   ]
  },
  {
   "cell_type": "markdown",
   "metadata": {},
   "source": [
    "**Un primer ejercicio con vectores y matrices**. Partiendo de un saldo bancario inicial de 20 u.m. y un flujo de caja aleatorio normal N(0,1) (o Gaussiano) para los próximos 5 dias, obtén un vector con los saldos bancarios al final de cada día."
   ]
  },
  {
   "cell_type": "code",
   "execution_count": null,
   "metadata": {
    "collapsed": true
   },
   "outputs": [],
   "source": [
    "# Datos iniciales: saldo b0 y n días"
   ]
  },
  {
   "cell_type": "code",
   "execution_count": null,
   "metadata": {
    "collapsed": true
   },
   "outputs": [],
   "source": [
    "# Fijo una semilla para los random\n",
    "# Asigno a f n valores aleatorios"
   ]
  },
  {
   "cell_type": "code",
   "execution_count": null,
   "metadata": {
    "collapsed": true
   },
   "outputs": [],
   "source": [
    "# Calculo la suma acumulada y la asigno a b"
   ]
  },
  {
   "cell_type": "markdown",
   "metadata": {},
   "source": [
    "Ahora utilizando vectores y multiplicación de matrices: \n",
    "\n",
    "$$b = b_0 + L \\cdot f$$\n",
    "\n",
    "Mediante operaciones algebraicas básicas como la multiplicación y la suma de vectores y matrices podemos calcular fácilmente el saldo bancario futuro dado una serie de flujos de caja futuros. Por ejemplo, si el saldo inicial de una cuenta es $b_0 = 20$ y los flujos de caja esperados para los próximos 5 días son los recogidos en un vector **$f$**"
   ]
  },
  {
   "cell_type": "code",
   "execution_count": null,
   "metadata": {
    "collapsed": true
   },
   "outputs": [],
   "source": [
    "# Una matriz triangular inferior tril(np.ones(n))"
   ]
  },
  {
   "cell_type": "code",
   "execution_count": null,
   "metadata": {
    "collapsed": true
   },
   "outputs": [],
   "source": [
    "# Producto de matrices/vectores"
   ]
  },
  {
   "cell_type": "code",
   "execution_count": null,
   "metadata": {
    "collapsed": true
   },
   "outputs": [],
   "source": [
    "# Aplico la formula y lo asigno a bb"
   ]
  },
  {
   "cell_type": "code",
   "execution_count": null,
   "metadata": {
    "collapsed": true
   },
   "outputs": [],
   "source": [
    "# Comprobamos que b y bb son iguales"
   ]
  },
  {
   "cell_type": "markdown",
   "metadata": {},
   "source": [
    "En el ejemplo anterior aunque $b_0$ no es un vector Python suma este valor a todos los elementos del producto $L \\cdot f$, consiguiendo lo que buscamos sin tener que redefinir $b_0$ como vector."
   ]
  },
  {
   "cell_type": "markdown",
   "metadata": {},
   "source": [
    "** Rangos ** \n",
    "\n",
    "Otro de los elementos que más se utilizan en Python son los rangos que no son otra cosa que listas ordenadas o secuencias. Se utilizan con frecuencia como índices para iterar en un bucle **for** o cuando necesitamos una referencia en el eje horizontal para dibujar una gráfica. Recuerda que en Python se empieza a contar desde cero. Por tanto, el rango **range(3)** contiene los elementos 0, 1 y 2, y no incluye el elemento que hace de final de rango, en este caso, el 3."
   ]
  },
  {
   "cell_type": "code",
   "execution_count": null,
   "metadata": {
    "collapsed": true
   },
   "outputs": [],
   "source": [
    "# Imprimo los elementos de un rango de 3"
   ]
  },
  {
   "cell_type": "code",
   "execution_count": null,
   "metadata": {
    "collapsed": true
   },
   "outputs": [],
   "source": [
    "# Establezco un salto de 2 para obtener por ejemplo los impares entre 1 y 10"
   ]
  },
  {
   "cell_type": "code",
   "execution_count": null,
   "metadata": {
    "collapsed": true
   },
   "outputs": [],
   "source": [
    "# Lo mismo se puede hacer para los pares entre 0 y 10"
   ]
  },
  {
   "cell_type": "code",
   "execution_count": null,
   "metadata": {
    "collapsed": true
   },
   "outputs": [],
   "source": [
    "# O incluso los impares en sentido inverso (9, 0 -2)"
   ]
  },
  {
   "cell_type": "markdown",
   "metadata": {},
   "source": [
    "** Un ejercicio para practicar**.  Dado un vector de valores aleatorios normales centrados en cero, extrae por un lado los elementos positivos y por otro los elementos negativos o nulos mediante una función que acepta un vector, utiliza if-else y devuelve dos vectores. Pero vayamos por partes:"
   ]
  },
  {
   "cell_type": "code",
   "execution_count": null,
   "metadata": {
    "collapsed": true
   },
   "outputs": [],
   "source": [
    "# Esta es milista vacía\n",
    "# Añado un 1 a milista "
   ]
  },
  {
   "cell_type": "markdown",
   "metadata": {},
   "source": [
    "También será necesario utilizar la estructura de control condicional **if-else**. Si se cumple una condición, se realiza una acción. En caso contrario (**else**), se realiza otra acción. "
   ]
  },
  {
   "cell_type": "code",
   "execution_count": null,
   "metadata": {
    "collapsed": true
   },
   "outputs": [],
   "source": [
    "# Ejemplo de if-else en una función que devuelve \"par\" o \"impar\""
   ]
  },
  {
   "cell_type": "code",
   "execution_count": null,
   "metadata": {
    "collapsed": true
   },
   "outputs": [],
   "source": [
    "# Compruebo que funciona"
   ]
  },
  {
   "cell_type": "code",
   "execution_count": null,
   "metadata": {
    "collapsed": true
   },
   "outputs": [],
   "source": [
    "# Otra función split ue devuelve dos listas: una con los valores positvos vpos y otra con los valores negativos\n",
    "# Una función puede devolver más de un resultado"
   ]
  },
  {
   "cell_type": "code",
   "execution_count": null,
   "metadata": {
    "collapsed": true
   },
   "outputs": [],
   "source": [
    "# Creamos un vector con 5 valores aleatorios normales"
   ]
  },
  {
   "cell_type": "code",
   "execution_count": null,
   "metadata": {
    "collapsed": true
   },
   "outputs": [],
   "source": [
    "# Presento el primer valor que devuelve la función: lista de positivos"
   ]
  },
  {
   "cell_type": "code",
   "execution_count": null,
   "metadata": {
    "collapsed": true
   },
   "outputs": [],
   "source": [
    "# Presento el primer valor que devuelve la función: lista de negativos"
   ]
  },
  {
   "cell_type": "code",
   "execution_count": null,
   "metadata": {
    "collapsed": true
   },
   "outputs": [],
   "source": [
    "# Para hacer el siguiente ejercicio mostrar un list comprehension con un bucle for. Lista con un rango de días del 1 al 31 (1-32)"
   ]
  },
  {
   "cell_type": "markdown",
   "metadata": {},
   "source": [
    "** Ejercicio **: días del mes de mayo de 2017 que no sean domingos. Pista: el operador modulo o resto de la división entera en Python es %. Imagina que hoy es el lunes 1 de mayo de 2017. Crea una lista que incluya el número del día del mes pero solo para los días entre lunes y sábado. Como orientación utiliza la **list comprehension** donde lista es un rango entre 1 y 31. "
   ]
  },
  {
   "cell_type": "code",
   "execution_count": null,
   "metadata": {
    "collapsed": true
   },
   "outputs": [],
   "source": [
    "# Ejemplo de list comprehension con un bucle for if modulo 7 > 0. Lista con un rango de días del 1 al 31 (1-32)"
   ]
  },
  {
   "cell_type": "code",
   "execution_count": null,
   "metadata": {
    "collapsed": true
   },
   "outputs": [],
   "source": [
    "[i for i in range(32) if not (i%7==0 or (i+1)%7==0)] # Otro ejemplo eliminar sábados y domingos"
   ]
  },
  {
   "cell_type": "code",
   "execution_count": null,
   "metadata": {
    "collapsed": true
   },
   "outputs": [],
   "source": [
    "[i for i in range(32) if (i%7>0 and (i+1)%7>0)]   # Otro ejemplo para hacer lo mismo"
   ]
  },
  {
   "cell_type": "code",
   "execution_count": null,
   "metadata": {
    "collapsed": true
   },
   "outputs": [],
   "source": [
    "# También podemos crear un lista de elementos aleatorios con una list comprehension y un rango"
   ]
  },
  {
   "cell_type": "code",
   "execution_count": null,
   "metadata": {
    "collapsed": true
   },
   "outputs": [],
   "source": [
    "# Obtengo una lista solo con los positivos con una list comprehension con un for y un if"
   ]
  },
  {
   "cell_type": "markdown",
   "metadata": {},
   "source": [
    "## Pandas.\n",
    "\n",
    "En finanzas, el tiempo es una variable de gran importancia. Si el tiempo no se hubiera inventado, las finanzas no tendrían sentido, de manera que conviene conocer como tratar con variables temporales en Python. Para ello hay que empezar a trabajar con la librería **pandas** que te permitirá trabajar más cómodamente con fechas y series temporales."
   ]
  },
  {
   "cell_type": "markdown",
   "metadata": {},
   "source": [
    "** Estructuras de datos: Series y DataFrame **\n",
    "\n",
    "Una **serie** es una estructura de datos unidimensional que contiene una lista de datos y un índice que asocia a cada dato un identificador.\n",
    "\n",
    "Un **DataFrame** es una estructura de datos en forma tabular con filas y columnas, y un índice que asocia a cada fila y columna un identificador."
   ]
  },
  {
   "cell_type": "code",
   "execution_count": null,
   "metadata": {
    "collapsed": true
   },
   "outputs": [],
   "source": [
    "# Importo pandas y numpy"
   ]
  },
  {
   "cell_type": "code",
   "execution_count": null,
   "metadata": {
    "collapsed": true
   },
   "outputs": [],
   "source": [
    "# Creo un rango de fechas con date_rang y freq = 'D' entre 1 de octubre y 31 de octubre y lo llamo fechas"
   ]
  },
  {
   "cell_type": "code",
   "execution_count": null,
   "metadata": {
    "collapsed": true
   },
   "outputs": [],
   "source": [
    "# Vector f de 31 aleatorios normales "
   ]
  },
  {
   "cell_type": "code",
   "execution_count": null,
   "metadata": {
    "collapsed": true
   },
   "outputs": [],
   "source": [
    "# Creo una Series con nombre serie con f, index = fechas y nombre 'Caja'"
   ]
  },
  {
   "cell_type": "markdown",
   "metadata": {},
   "source": [
    "Además de atributos, los objectos disponen de una colección de funciones que te pueden resultar de utilidad como, por ejemplo, la función **describe()**. Recuerda que puedes acceder a los atributos y funciones de un objeto escribiendo el nombre del objeto seguido de un punto y pulsando la tecla de tabulación. Verás como aparece una lista de todo lo que hay disponible. "
   ]
  },
  {
   "cell_type": "code",
   "execution_count": null,
   "metadata": {
    "collapsed": true
   },
   "outputs": [],
   "source": [
    "# Resumen estadístico con describe()"
   ]
  },
  {
   "cell_type": "markdown",
   "metadata": {},
   "source": [
    "** Ejercicio. ** Verificar que la suma de 2 dist normales con desviación típica 1 es una normal con desviación típica raíz de 2. Pista: utiliza describe()."
   ]
  },
  {
   "cell_type": "code",
   "execution_count": null,
   "metadata": {
    "collapsed": true
   },
   "outputs": [],
   "source": [
    "# Comprobar que la suma de 2 dist normales con std1 = 1 es una normal con std np.sqrt(2) raiz de 2. Utiliza describe"
   ]
  },
  {
   "cell_type": "code",
   "execution_count": null,
   "metadata": {
    "collapsed": true
   },
   "outputs": [],
   "source": [
    "# Importar matplotlib.pyplot para representar"
   ]
  },
  {
   "cell_type": "code",
   "execution_count": null,
   "metadata": {
    "collapsed": true
   },
   "outputs": [],
   "source": [
    "# Representa la serie s"
   ]
  },
  {
   "cell_type": "code",
   "execution_count": null,
   "metadata": {
    "collapsed": true
   },
   "outputs": [],
   "source": [
    "# Representa el histograma de s con bins = 30"
   ]
  },
  {
   "cell_type": "markdown",
   "metadata": {},
   "source": [
    "De la misma manera que con las listas, los vectores y las matrices, podemos acceder a los elementos de una serie por medio de su posición pero, en este caso, también por medio del valor de su índice:"
   ]
  },
  {
   "cell_type": "code",
   "execution_count": null,
   "metadata": {
    "collapsed": true
   },
   "outputs": [],
   "source": [
    "# Serie con aleatorios de longitud 10 con índice de fechas usada anterioremente"
   ]
  },
  {
   "cell_type": "code",
   "execution_count": null,
   "metadata": {
    "collapsed": true
   },
   "outputs": [],
   "source": [
    "# Presenta propiedad index"
   ]
  },
  {
   "cell_type": "code",
   "execution_count": null,
   "metadata": {
    "collapsed": true
   },
   "outputs": [],
   "source": [
    "# Presenta primer elemento"
   ]
  },
  {
   "cell_type": "code",
   "execution_count": null,
   "metadata": {
    "collapsed": true
   },
   "outputs": [],
   "source": [
    "# Presenta los tres primeros"
   ]
  },
  {
   "cell_type": "code",
   "execution_count": null,
   "metadata": {
    "collapsed": true
   },
   "outputs": [],
   "source": [
    "# Presenta el último"
   ]
  },
  {
   "cell_type": "code",
   "execution_count": null,
   "metadata": {
    "collapsed": true
   },
   "outputs": [],
   "source": [
    "# Presenta el día 4 de octubre"
   ]
  },
  {
   "cell_type": "code",
   "execution_count": null,
   "metadata": {
    "collapsed": true
   },
   "outputs": [],
   "source": [
    "# Obengo el día del mes on index.day y lo almaceno en dom"
   ]
  },
  {
   "cell_type": "code",
   "execution_count": null,
   "metadata": {
    "collapsed": true
   },
   "outputs": [],
   "source": [
    "# Obengo el día del mes on index.weekday + 1 y lo almaceno en dow"
   ]
  },
  {
   "cell_type": "code",
   "execution_count": null,
   "metadata": {
    "collapsed": true
   },
   "outputs": [],
   "source": [
    "# Creo un DataFrame con nombre tabla y data = serie. Vemos que ya está indexada"
   ]
  },
  {
   "cell_type": "code",
   "execution_count": null,
   "metadata": {
    "collapsed": true
   },
   "outputs": [],
   "source": [
    "# Podemos añadir nuevas columnas tabla['DOM'] y tabla['DOW'] a nuestro DataFrame"
   ]
  },
  {
   "cell_type": "markdown",
   "metadata": {},
   "source": [
    "¿Cómo se filtra un DataFrame?"
   ]
  },
  {
   "cell_type": "code",
   "execution_count": null,
   "metadata": {
    "collapsed": true
   },
   "outputs": [],
   "source": [
    "# Presentamos columna DOW"
   ]
  },
  {
   "cell_type": "code",
   "execution_count": null,
   "metadata": {
    "collapsed": true
   },
   "outputs": [],
   "source": [
    "# Filtramos por tabla[tabla.DOW] igual a 7"
   ]
  },
  {
   "cell_type": "code",
   "execution_count": null,
   "metadata": {
    "collapsed": true
   },
   "outputs": [],
   "source": [
    "# Presentamos primer elemento de primera columna [0][0] con iloc"
   ]
  },
  {
   "cell_type": "code",
   "execution_count": null,
   "metadata": {
    "collapsed": true
   },
   "outputs": [],
   "source": [
    "# Presentamos primer elemento de segunda columna [0][1] con iloc"
   ]
  },
  {
   "cell_type": "code",
   "execution_count": null,
   "metadata": {
    "collapsed": true
   },
   "outputs": [],
   "source": [
    "# Filtrando no festivos con DOW < 6"
   ]
  },
  {
   "cell_type": "code",
   "execution_count": null,
   "metadata": {
    "collapsed": true
   },
   "outputs": [],
   "source": [
    "# Muestra nombre de las columnas con propiedad columns"
   ]
  },
  {
   "cell_type": "code",
   "execution_count": null,
   "metadata": {
    "collapsed": true
   },
   "outputs": [],
   "source": [
    "# Ordena by='Caja'"
   ]
  },
  {
   "cell_type": "code",
   "execution_count": null,
   "metadata": {
    "collapsed": true
   },
   "outputs": [],
   "source": [
    "# Media, min, max, std de Caja"
   ]
  },
  {
   "cell_type": "code",
   "execution_count": null,
   "metadata": {
    "collapsed": true
   },
   "outputs": [],
   "source": [
    "# Suma acumulada de Caja"
   ]
  },
  {
   "cell_type": "code",
   "execution_count": null,
   "metadata": {
    "collapsed": true
   },
   "outputs": [],
   "source": [
    "# Presento caja"
   ]
  },
  {
   "cell_type": "code",
   "execution_count": null,
   "metadata": {
    "collapsed": true
   },
   "outputs": [],
   "source": [
    "# Calculo la suma de Caja agrupada por día de la semana"
   ]
  },
  {
   "cell_type": "code",
   "execution_count": null,
   "metadata": {
    "collapsed": true
   },
   "outputs": [],
   "source": [
    "# Añado nueva columna a tabla con la suma acumulada de Caja"
   ]
  },
  {
   "cell_type": "code",
   "execution_count": null,
   "metadata": {
    "collapsed": true
   },
   "outputs": [],
   "source": [
    "# Añado nueva columna a tabla con el valor mínimo de Caja"
   ]
  },
  {
   "cell_type": "code",
   "execution_count": null,
   "metadata": {
    "collapsed": true
   },
   "outputs": [],
   "source": [
    "otratabla = tabla.drop('Min', axis=1)   # Devuelve un nuevo objeto eliminando columna Min\n",
    "otratabla"
   ]
  },
  {
   "cell_type": "markdown",
   "metadata": {
    "collapsed": true
   },
   "source": [
    "** Importar y exportar datos **"
   ]
  },
  {
   "cell_type": "code",
   "execution_count": null,
   "metadata": {
    "collapsed": true
   },
   "outputs": [],
   "source": [
    " # Exportar la tabla a excel con nombre tablaexcel"
   ]
  },
  {
   "cell_type": "code",
   "execution_count": null,
   "metadata": {
    "collapsed": true
   },
   "outputs": [],
   "source": [
    " # Lee la tabla y la almacena en otra tabla"
   ]
  },
  {
   "cell_type": "markdown",
   "metadata": {},
   "source": [
    "**Resumen de pandas **\n",
    "\n",
    "-Rangos de fechas con pd.date_range\n",
    "\n",
    "-Series temporales con pd.Series() --> unidimensionales\n",
    "\n",
    "-Tablas de datos con pd.DataFrame() --> bidimensionales\n",
    "\n",
    "-Index es el elemento clave para buscar datos en una Series o DataFrame\n",
    "\n",
    "-¿Cómo añadir columnas a un DataFrame? df['nuevacol'] = variable\n",
    "\n",
    "-¿Cómo filtrar un DataFrame? --> df[df.col=='valor']\n",
    "\n",
    "-Importar y exportar datos"
   ]
  },
  {
   "cell_type": "markdown",
   "metadata": {},
   "source": [
    "# Visualizando datos con Matplotlib\n",
    "\n",
    "Además de **numpy** y **pandas**, la librería que probablemente utilizarás con mayor frecuencia al trabajar con Python es **matplotlib** ya que te permitirá representar gráficamente cualquier variable de interés como el flujo de caja o el saldo previsto para los próximos días de las cuentas que debas controlar. Lo primero que tendrás que hacer es importar la librería como se muestra en el siguiente ejemplo. Además, si estás trabajando con un Notebook conviene que ejecutes también la instrucción especial **%matplotlib inline** para que las gráficas se presenten como resultado de la ejecución de las celdas y no en una ventana diferente."
   ]
  },
  {
   "cell_type": "code",
   "execution_count": null,
   "metadata": {
    "collapsed": true
   },
   "outputs": [],
   "source": [
    "# Importo numpy, matplotlib y %matplotlib inline si es necesario\n",
    "import matplotlib.pyplot as plt"
   ]
  },
  {
   "cell_type": "markdown",
   "metadata": {},
   "source": [
    "Vamos a representar el valor futuro de una cantidad inicial $c_0$ capitalizado mediante interés compuesto:\n",
    "\n",
    "$$c_t = c_0 \\cdot (1+i)^t$$"
   ]
  },
  {
   "cell_type": "code",
   "execution_count": null,
   "metadata": {
    "collapsed": true
   },
   "outputs": [],
   "source": [
    "# Datos de partida c0 = 1000 e i = 0.05\n",
    "\n",
    "# Creamos vector de tiempos 50 puntos entre 0 y 50 con np. linspace\n",
    "\n",
    "# Calculamos ct con la fórmula\n"
   ]
  },
  {
   "cell_type": "code",
   "execution_count": null,
   "metadata": {
    "collapsed": true
   },
   "outputs": [],
   "source": [
    "# Dibujamos la gráfica con plot"
   ]
  },
  {
   "cell_type": "code",
   "execution_count": null,
   "metadata": {
    "collapsed": true
   },
   "outputs": [],
   "source": [
    "# Mejoramos la gráfica representando puntos '.', color negro y añadiendo una etiqueta-label\n",
    "\n",
    "# Añadimos título al eje vertical y horizontal colocamos legend en loc=\"upper left\"\n"
   ]
  },
  {
   "cell_type": "markdown",
   "metadata": {},
   "source": [
    "** Visualización conjunta de gráficos **"
   ]
  },
  {
   "cell_type": "markdown",
   "metadata": {},
   "source": [
    "Primero, un gráfico lineal con el flujo de caja aleatorio de 100 días distribuido normalmente con media 0 y desviación típica 4; segundo, otro gráfico lineal con el saldo acumulado a partir de un valor inicial de 10."
   ]
  },
  {
   "cell_type": "code",
   "execution_count": null,
   "metadata": {
    "collapsed": true
   },
   "outputs": [],
   "source": [
    "# Datos iniciales inibal = 10, x = vector 100 puntos con linspace, mu = 0, sd= 4\n",
    "\n",
    "# Generamos 100 valores aleatorios con media 0 y std 4 y lo almacenamos en y\n",
    "\n",
    "# Calculamos acum como suma de inibal y la suma del flujo de caja acumulado de y\n"
   ]
  },
  {
   "cell_type": "code",
   "execution_count": null,
   "metadata": {
    "collapsed": true
   },
   "outputs": [],
   "source": [
    "# Creamos objeto plt.figure con tamaño figsize =(10,5)\n",
    "\n",
    "# Seleccionamos primer gráfico con subplot(1,2,1) y dibujamos x-y\n",
    "\n",
    "# Seleccionamos segundo gráfico con subplot(1,2,1) y dibujamos x-acum\n"
   ]
  },
  {
   "cell_type": "markdown",
   "metadata": {},
   "source": [
    "** Ejercicio ** Representa cuatro gráficos a la vez como en una matriz $2 \\times 2$. Primero, un gráfico lineal con el flujo de caja aleatorio de 100 días distribuido normalmente con media 0 y desviación típica 4; segundo, otro gráfico lineal con el saldo acumulado a partir de un valor inicial de 10 añadiendo dos límites de control horizontales en 5 (en color rojo) y en 15 (en color verde); tercero, un gráfico de barras del saldo bancario de manera que cuando el saldo es negativo la barra sea roja y azul en caso de saldo positivo; y cuarto, un histograma con fondo verde de la distribución de frecuencias de los flujo de caja aleatorios del primer gráfico. Y todo ello, en un único gráfico de $10 \\times 10$ pulgadas. Cada eje de cada gráfico debe tener su título también. "
   ]
  },
  {
   "cell_type": "code",
   "execution_count": null,
   "metadata": {
    "collapsed": true
   },
   "outputs": [],
   "source": [
    "# Pista para obtener valores positivos y negativos del balance de caja acumulado\n",
    "bpos = [max(i, 0) for i in acum]\n",
    "bneg = [min(i, 0) for i in acum]\n",
    "np.mean(bpos), np.mean(bneg)"
   ]
  },
  {
   "cell_type": "code",
   "execution_count": null,
   "metadata": {
    "collapsed": true
   },
   "outputs": [],
   "source": [
    "# Ejercicio 4 gráficos"
   ]
  },
  {
   "cell_type": "markdown",
   "metadata": {},
   "source": [
    "**Ejercicio** gráfica con anotaciones"
   ]
  },
  {
   "cell_type": "code",
   "execution_count": null,
   "metadata": {
    "collapsed": true
   },
   "outputs": [],
   "source": [
    "fig = plt.figure(figsize=(8,6))\n",
    "ax1 = plt.subplot()\n",
    "plt.hist(y, color = 'white', edgecolor= 'k', normed = True)\n",
    "plt.plot([0,0], [0,0.25],color='k',linewidth=2)\n",
    "ax1.annotate('', xy=(5,0.2), xytext=(0,0.2),\n",
    "                arrowprops=dict(facecolor='black',\n",
    "                shrink=0,\n",
    "                alpha=0.7,\n",
    "                width=0.5))\n",
    "ax1.annotate('', xy=(-5,0.2), xytext=(0,0.2), \n",
    "                arrowprops=dict(facecolor='black',\n",
    "                shrink=0,\n",
    "                alpha=0.7,\n",
    "                width=0.5))\n",
    "ax1.text(-4, 0.21, str('Negativo'),fontsize=15)\n",
    "ax1.text(4, 0.21, str('Positivo'),fontsize=15)\n",
    "plt.xlabel('Acumulado',fontsize=15)\n",
    "plt.ylabel('Probabilidad',fontsize=15)\n",
    "#plt.xticks([0], '0', fontsize=15)\n",
    "plt.axis([-10,10,0,0.25])\n",
    "plt.show()"
   ]
  },
  {
   "cell_type": "markdown",
   "metadata": {},
   "source": [
    "** Ejercicio **. Otro gráfico para practicar"
   ]
  },
  {
   "cell_type": "code",
   "execution_count": null,
   "metadata": {
    "collapsed": true
   },
   "outputs": [],
   "source": [
    "# datos de partida\n",
    "train = np.array([[0.2,0.6],[0.34,0.4],[0.7,0.3]])\n",
    "test = np.array([[0.3,0.7],[0.2,0.4],[0.8,0.6]])\n",
    "train"
   ]
  },
  {
   "cell_type": "code",
   "execution_count": null,
   "metadata": {
    "collapsed": true
   },
   "outputs": [],
   "source": [
    "test"
   ]
  },
  {
   "cell_type": "code",
   "execution_count": null,
   "metadata": {
    "collapsed": true
   },
   "outputs": [],
   "source": [
    "fig = plt.figure(figsize=(6,6))\n",
    "shift = 0.1\n",
    "ax = fig.add_subplot(111)\n",
    "plt.scatter(train[:,0],train[:,1], s = 40, marker = 'o',color ='k')\n",
    "plt.scatter(test[:,0],test[:,1],s = 40, marker = 'x',color = 'k' )\n",
    "plt.plot([0,test[1,0]],[0, test[1,1]], color='k')\n",
    "plt.plot([0,train[1,0]],[0, train[1,1]], color='k')\n",
    "for i in range(len(train)):\n",
    "    plt.plot([train[i,0], test[i,0]],[train[i,1], test[i,1]], color='k')\n",
    "    plt.plot([train[i,0], test[i,0]],[train[i,1], test[i,1]], color='k')\n",
    "ax.text(train[0,0]-shift, train[0,1], str('$P_1$'),fontsize=15)\n",
    "ax.text(test[0,0]-shift, test[0,1], str('$P_1^{\\prime}$'),fontsize=15)\n",
    "ax.text(train[1,0]+0.04, train[1,1], str('$P_2$'),fontsize=15)\n",
    "ax.text(test[1,0]-shift, test[1,1], str('$P_2^{\\prime}$'),fontsize=15)\n",
    "ax.text(train[2,0]-shift, train[2,1], str('$P_3$'),fontsize=15)\n",
    "ax.text(test[2,0]-shift, test[2,1], str('$P_3^{\\prime}$'),fontsize=15)\n",
    "ax.text(0.3, 0.6, str('$d_1$'),fontsize=15)\n",
    "ax.text(0.25, 0.45, str('$d_2$'),fontsize=15)\n",
    "ax.text(0.8, 0.4, str('$d_3$'),fontsize=15)\n",
    "ax.text(0.05, 0.25, str('$\\\\delta_2^{\\prime}$'),fontsize=15)\n",
    "ax.text(0.25, 0.25, str('$\\\\delta_2$'),fontsize=15)\n",
    "plt.xlabel('Cost index $\\\\theta_1$',fontsize=12)\n",
    "plt.ylabel('Risk index $\\\\theta_2$',fontsize=12)\n",
    "plt.axis([0,1,0,1])\n",
    "plt.axes().set_aspect('equal')\n",
    "plt.show()"
   ]
  },
  {
   "cell_type": "markdown",
   "metadata": {
    "collapsed": true
   },
   "source": [
    "** Recordatorio ** Excel de evaluación de la clase"
   ]
  },
  {
   "cell_type": "code",
   "execution_count": null,
   "metadata": {
    "collapsed": true
   },
   "outputs": [],
   "source": []
  }
 ],
 "metadata": {
  "kernelspec": {
   "display_name": "Python 3",
   "language": "python",
   "name": "python3"
  },
  "language_info": {
   "codemirror_mode": {
    "name": "ipython",
    "version": 3
   },
   "file_extension": ".py",
   "mimetype": "text/x-python",
   "name": "python",
   "nbconvert_exporter": "python",
   "pygments_lexer": "ipython3",
   "version": "3.6.1"
  }
 },
 "nbformat": 4,
 "nbformat_minor": 1
}
