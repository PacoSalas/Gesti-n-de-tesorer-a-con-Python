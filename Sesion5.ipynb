{
 "cells": [
  {
   "cell_type": "markdown",
   "metadata": {},
   "source": [
    "# Sesión 5. Galería de flujos de caja"
   ]
  },
  {
   "cell_type": "markdown",
   "metadata": {
    "collapsed": true
   },
   "source": [
    "Los flujos de caja pueden ser muy diferentes en la práctica: desde los totalmente predecibles a corto plazo como los totalmente aleatorios. Lo más probables es que nos encontremos con flujos de caja de todo tipo. Por lo tanto, conviene saber como generar diferentes flujos de caja para por simular un amplio rango de posibles situaciones. Para ello utilizaremos las **list comprehensions** que no es otra cosa que una funcionalidad de Python para generar listas de manera sencilla."
   ]
  },
  {
   "cell_type": "code",
   "execution_count": null,
   "metadata": {},
   "outputs": [],
   "source": [
    "# Flujo de caja seguro y constante. Damos valores a horizonte P = 5 y constante k = 2.5 y f = [k for i in range(P)]\n"
   ]
  },
  {
   "cell_type": "code",
   "execution_count": null,
   "metadata": {},
   "outputs": [],
   "source": [
    "# Flujo de caja seguro y creciente m =1.5 y ][m * i for i in range(P)]\n"
   ]
  },
  {
   "cell_type": "code",
   "execution_count": null,
   "metadata": {},
   "outputs": [],
   "source": [
    "# Flujos aleatorios normales a partir de mu = 0 y sigma = 1"
   ]
  },
  {
   "cell_type": "markdown",
   "metadata": {},
   "source": [
    "**Ejercicio**. Generar y representar el saldo bancario para tres flujos aleatorios con media -1, 0, 1 y std = 1 a partir de un saldo inicial b0 = 0 para 100 periodos de tiempo."
   ]
  },
  {
   "cell_type": "code",
   "execution_count": null,
   "metadata": {
    "collapsed": true
   },
   "outputs": [],
   "source": [
    "# Generar y representar el saldo bancario para tres flujos aleatorios normales con media -1, 0, 1 y std = 1\n",
    "# Datos iniciales mu1=-1, mu2=0, mu3 =1, sigma = 3, P = 100\n",
    "# Flujos f1, f2, f3 y acumulados b1, b2, b3 = b0 + np.cumsum(f3)\n",
    "# Plot t = range(P), plot(t, b1, label='Decreciente')"
   ]
  },
  {
   "cell_type": "markdown",
   "metadata": {},
   "source": [
    "**Flujos de caja con precisión controlada**\n",
    "\n",
    "Previsión = una estimación del valor de una variable $f_t$ en un instante t, y la representaremos por $\\hat{f}_t$\n",
    "\n",
    "Error = la desviación de la previsión respecto del valor real de la variable $e_t = f_t - \\hat{f}_t$\n",
    "\n",
    "Con frecuencia se asume que el error sigue una distribución normal con media cero y una determinada desviación típica: $\\mathcal{N}(0,\\sigma_e)$\n",
    "\n",
    "Por tanto a partir de un flujo de caja podemos simular el impacto del error de previsión sumando una variable normal con desviación típica controlada al flujo de caja disponible."
   ]
  },
  {
   "cell_type": "code",
   "execution_count": null,
   "metadata": {
    "collapsed": true
   },
   "outputs": [],
   "source": [
    "# Generar y representar un saldo aleatorio real de media 0 y sigma = 1 y una previsión con un error de sigma_e = 0.5\n",
    "# Partimos de b0 = 0 y P = 100, mu =0, sigma=1, sigma_e = 0.5\n",
    "# Creamos flujo real y error, y luego prev = real - error\n",
    "# Finalmente breal y bprev = b0 + np.cumsum(prev) y representamos."
   ]
  },
  {
   "cell_type": "markdown",
   "metadata": {},
   "source": [
    "** Ejercicio: ** Representa gráficamente el error y calcula su valor medio y máximo en valor absoluto."
   ]
  },
  {
   "cell_type": "code",
   "execution_count": null,
   "metadata": {
    "collapsed": true
   },
   "outputs": [],
   "source": [
    "# Propuesta de resolución del ejercicio"
   ]
  },
  {
   "cell_type": "markdown",
   "metadata": {},
   "source": [
    "## Elaboración de un plan de tesorería de tus finanzas personales\n",
    "\n",
    "Vamos a pensar que dispones de una cuenta corriente que llamaremos cuenta 1 a través de la cual recibes ingresos y realizas cobros. Como quieres sacar partido a los excedentes de tesorería también has contratado una cuenta de inversión que llamaremos cuenta 2. Pero no te gusta correr riesgos, solo utilizas la cuenta 2 para comprar deuda pública que te ofrece rentabilidad anual del 5%. En esta situación, te planteas qué cantidad debes mantener en la cuenta 1 para hacer frente a los pagos habituales y qué cantidad debes transferir cada mes a la cuenta 2 para conseguir la rentabilidad indicada."
   ]
  },
  {
   "cell_type": "code",
   "execution_count": null,
   "metadata": {},
   "outputs": [],
   "source": [
    "from IPython.display import Image\n",
    "Image(filename = \"twoassets.jpg\", embed = True, width = 500, height = 500)"
   ]
  },
  {
   "cell_type": "markdown",
   "metadata": {},
   "source": [
    "Transferir cualquier importe desde la cuenta 1 a la 2 tiene un coste fijo de 20 €, y transferir desde la cuenta 2 a la 1 tiene un coste de 10 € por comisiones fijas y gastos administrativos. Como la rentabilidad anual que se obtiene de los importes depositados en la cuenta 2 es del 5%, la traducción a costes es fijar un coste de mantenimiento de excedentes de tesorería en la cuenta 1 del 5%. Los costes variables de transacción son del 0.1% y del 1% para las transacciones $x_{1,t}$ y $x_{2,t}$ respectivamente. "
   ]
  },
  {
   "cell_type": "code",
   "execution_count": null,
   "metadata": {
    "collapsed": true
   },
   "outputs": [],
   "source": [
    "# importamos librerías numpy y matplotlib\n"
   ]
  },
  {
   "cell_type": "code",
   "execution_count": null,
   "metadata": {
    "collapsed": true
   },
   "outputs": [],
   "source": [
    "# Estructura de costes y saldos iniciales g01 = 10, g02=20, g11 = 0.001, g12 = 0.01, v1 = 0.05/12, v2 = 0, b0 =6000, b02 =1000\n",
    "\n"
   ]
  },
  {
   "cell_type": "markdown",
   "metadata": {},
   "source": [
    "Asumamos también que eres lo suficientemente afortunado como para disfrutar de un contrato fijo y de un salario neto mensual de 2000 €, a lo que hay que añadir dos pagas extras en diciembre y en julio por el mismo importe. Añadamos a esto el hecho de que cada mes tienes que hacer frente al pago de tu hipoteca por valor de 500 €. Estos dos flujos de entrada (salario) y de salida (hipoteca) son los dos únicos flujos de caja que conoces con seguridad. El resto de flujos de caja son principalmente gastos de electricidad, agua, gas, telefonía y ocio cuyo importe mensual no conoces con certeza. Supongamos que, del análisis de los datos históricos de tu cuenta, sabes que la media de los gastos mensuales es de 500 € y que la desviación típica es de 100 €. Por tanto, tu flujo de caja mensual queda caracterizado por un componente seguro (determinista) y otro aleatorio (estocástico) equivalente a:\n",
    "\n",
    "$$f_{1,t} = 2000 - 500 + \\mathcal{N}(-500,100) = \\mathcal{N}(1000,100)$$"
   ]
  },
  {
   "cell_type": "code",
   "execution_count": null,
   "metadata": {},
   "outputs": [],
   "source": [
    "# Fijamos seed(1), P = 12 y generamos f con flujos normales (1000, 100, size = P )\n"
   ]
  },
  {
   "cell_type": "markdown",
   "metadata": {},
   "source": [
    "**Ejercicio.** Propón tu mejor plan de tesorería mensual para los próximos 12 meses sabiendo que el saldo inicial es de 6000 € para la cuenta 1 y 1000 € para la cuenta 2. Determina cuáles son las transacciones $x_{1,t}$ y $x_{2,t}$ a realizar cada mes, representa gráficamente el saldo mensual de las cuentas 1 y 2, determina el saldo medio mensual y su desviación típica, y finalmente, calcula los costes totales esperados de tu plan de tesorería."
   ]
  },
  {
   "cell_type": "markdown",
   "metadata": {},
   "source": [
    "** Plan 1 **. Vamos a mantener el saldo inicial de 6000 € y cada mes realizaremos un transferencia de 1000 € de la cuenta 1 a la cuenta, debido a que el flujo de caja esperado sobre la cuenta 1 es positivo y de media 1000."
   ]
  },
  {
   "cell_type": "code",
   "execution_count": null,
   "metadata": {},
   "outputs": [],
   "source": [
    "# Generamos x1 igual a ceros de longitud P y x2 = 1000 for i in range(P)\n"
   ]
  },
  {
   "cell_type": "code",
   "execution_count": null,
   "metadata": {},
   "outputs": [],
   "source": [
    "# Calculamos b1 a partir del saldo inicial b01 + np.cumsum(f) + np.cumsum(x1) - np.cumsum(x2)\n",
    "# Calculamos b2 a partir del saldo inicial b02 - np.cumsum(x1) + np.cumsum(x2)\n",
    "# Presentamos los saldos medios previstos con print('Saldo medio 1 =', np.mean(b1))\n"
   ]
  },
  {
   "cell_type": "code",
   "execution_count": null,
   "metadata": {},
   "outputs": [],
   "source": [
    "# Representamos saldos b1 y b2 por período con función plt.step(t, b1, where = 'post', label = 'Cuenta 1')\n",
    "# Primero creamos un rango t = range(1, P+1) para que los meses vayan del 1 al 12\n",
    "# Ajustamos límites eje horizontal [1,12] y presentamos leyenda Cuenta1 y Cuenta2\n"
   ]
  },
  {
   "cell_type": "code",
   "execution_count": null,
   "metadata": {},
   "outputs": [],
   "source": [
    "# Para calcular los costes fijos podemos transformar las variables reales de x1, x2\n",
    "# en binarias z1, z2 mediante la función sign(x1) \n"
   ]
  },
  {
   "cell_type": "code",
   "execution_count": null,
   "metadata": {},
   "outputs": [],
   "source": [
    "# Y el coste fijo de la transacción x2 multiplicando z2 por g02\n"
   ]
  },
  {
   "cell_type": "code",
   "execution_count": null,
   "metadata": {},
   "outputs": [],
   "source": [
    "# Ahora calculamos el trans cost como la suma de np.sum(g01*z1 + g11*x1 + g02*z2 + g12*x2)\n",
    "\n",
    "# Y el coste de mantenimiento como la suma de v1*b1 + v2*b2\n",
    "\n",
    "# El total sera costetrans + coste man\n",
    "\n",
    "# Presentamos coste trans, coste man y coste total con print('Coste total =', int(total), 'euros')\n"
   ]
  },
  {
   "cell_type": "markdown",
   "metadata": {},
   "source": [
    "** Plan 2. ** Modelo de Miller-Orr. Para establecer el Plan 2, primero calcularemos los límites de control $H$ y $Z$ para la cuenta 1 a partir de las fórmulas que proponen. El límite $L$ lo fijaremos a un valor tres veces la desviación típica de los flujos de caja previstos, es decir, $L=300$, para que la probabilidad de un saldo negativo sea inferior a 0.01.\n",
    "\n",
    "$$ L = 3 \\sigma $$\n",
    "\n",
    "$$ Z = L + \\sqrt[3]{\\frac{3 \\gamma_0 \\sigma^2}{v^+}} $$\n",
    "\n",
    "$$ H = 3Z - 2L $$"
   ]
  },
  {
   "cell_type": "code",
   "execution_count": null,
   "metadata": {},
   "outputs": [],
   "source": [
    "# Valores iniciales para sigma = 100, g01 = 10, y v1 = 0.005/12 y calculamos H, Z, L\n",
    "\n"
   ]
  },
  {
   "cell_type": "code",
   "execution_count": null,
   "metadata": {
    "collapsed": true
   },
   "outputs": [],
   "source": [
    "# Definimos la función transfer del modelo de Miller-Orr a partir de h, z, l y saldo inicial s\n",
    "\n"
   ]
  },
  {
   "cell_type": "code",
   "execution_count": null,
   "metadata": {},
   "outputs": [],
   "source": [
    "Image(filename = \"twoassets.jpg\", embed = True, width = 500, height = 500)"
   ]
  },
  {
   "cell_type": "markdown",
   "metadata": {},
   "source": [
    "Y calculamos el plan 2. La función **transfer** devuelve las transacciones netas sobre la cuenta 1, lo que equivale a fijar la transacción 1 a cero y la transacción 2 al valor de la transacción neta $X$ cambiada de signo tal como se indica en el siguiente ejemplo para un saldo inicial de b01 = 6000."
   ]
  },
  {
   "cell_type": "markdown",
   "metadata": {},
   "source": [
    "Y calculamos el plan 2. La función **transfer** devuelve las transacciones netas sobre la cuenta 1 por lo que habrá que tener en cuenta los signos como veremos en el ejemplo para un saldo inicial de b01 = 6000."
   ]
  },
  {
   "cell_type": "code",
   "execution_count": null,
   "metadata": {},
   "outputs": [],
   "source": [
    "# Creamos listas vacías plan2 y b1 y fijamos b01 = 6000\n",
    "\n",
    "\n",
    "# Fijamos inibal = b01 y para cada elem de f calculamos x y lo añadimos a plan2\n",
    "# Calculamos bal y lo añadimos a b1 y actualizamos inibal\n"
   ]
  },
  {
   "cell_type": "code",
   "execution_count": null,
   "metadata": {},
   "outputs": [],
   "source": [
    "# Presentamos plan2\n"
   ]
  },
  {
   "cell_type": "code",
   "execution_count": null,
   "metadata": {},
   "outputs": [],
   "source": [
    "# Como todos los valores de plan 2 son negativos x1 = np.zeros(P) y x2 = - 1*np.array(plan2)\n",
    "\n",
    "# Transformamos b1 en un array y calculamos b2  como b02 - np.cumsum(x1) + np.cumsum(x2)\n",
    "\n",
    "#  print('Saldo medio 1 =', int(np.mean(b1))) para b1 y b2\n"
   ]
  },
  {
   "cell_type": "code",
   "execution_count": null,
   "metadata": {},
   "outputs": [],
   "source": [
    "# Representamos saldos b1 y b2 por período con función plt.step(t, b1, where = 'post', label = 'Cuenta 1')\n",
    "# Primero creamos un rango t = range(1, P+1) para que los meses vayan del 1 al 12\n",
    "# Ajustamos límites eje horizontal [1,12] y presentamos leyenda Cuenta1 y Cuenta2\n",
    "\n"
   ]
  },
  {
   "cell_type": "code",
   "execution_count": null,
   "metadata": {},
   "outputs": [],
   "source": [
    "# Calculamos z1 y z2 con sign\n",
    "\n",
    "# Ahora calculamos el trans cost como la suma de np.sum(g01*z1 + g11*x1 + g02*z2 + g12*x2)\n",
    "\n",
    "# Y el coste de mantenimiento como la suma de v1*b1 + v2*b2\n",
    "\n",
    "# El total sera costetrans + coste man. \n",
    "# Presentamos coste trans, coste man y coste total con print('Coste total =', int(total), 'euros')\n"
   ]
  },
  {
   "cell_type": "markdown",
   "metadata": {},
   "source": [
    "# Bibliografía recomendada"
   ]
  },
  {
   "cell_type": "markdown",
   "metadata": {},
   "source": [
    "** Python **\n",
    "\n",
    "- Hilpisch, Y. (2014). Python for Finance: Analyze Big Financial Data. O'Reilly Media, Inc.\n",
    "\n",
    "- McKinney, W. (2012). Python for data analysis: Data wrangling with Pandas, NumPy, and IPython. O'Reilly Media, Inc.\n",
    "\n",
    "** Gestión de tesorería **\n",
    "\n",
    "- Ross, S. A. W., Jaffe, R. W., Ross, J. F. S. A., Westerfield, R. W., & Jaffe, J. F. (2009). Finanzas corporativas/Corporate finance. McGraw-Hill.\n",
    "\n",
    "- Brealey, R. A., Myers, S. C., Allen, F., & Mohanty, P. (2012). Principles of corporate finance. McGraw-Hill Education.\n",
    "\n",
    "y también el manual de que hemos seguido en estas clases.\n",
    "\n",
    "- Salas-Molina, F. & Pla-Santamaría, D. (2017). Gestión de tesorería con Python. Colección Academica. Editorial Universitat Politècnica de València.\n",
    "\n",
    "En el Capítulo 4, se describe cómo utilizar un módulo espcífico de Python para obtener planes de tesorería óptimos utilizando programación lineal entera mixta. Para ello, es necesario descargar e instalar un módulo adicional de programación lineal para Python desarrollado por Gurobi (www.gurobi.com). \n",
    "\n",
    "En el Capítulo 5, se hace una introducción a la previsión de series temporales con Python. En este caso, el procedimiento recomendado es primero estudiar los datos desde un punto de vista estadísco, luego elegir un modelo de previsión como la regresión lineal, los modelos autoregresivos o también modelos no lineales como los árboles de decisión. Finalmente, conviene calcular el error cometido y comparar diferentes modelos."
   ]
  },
  {
   "cell_type": "markdown",
   "metadata": {},
   "source": [
    "**Ejercicio de evaluación**"
   ]
  }
 ],
 "metadata": {
  "kernelspec": {
   "display_name": "Python 3",
   "language": "python",
   "name": "python3"
  },
  "language_info": {
   "codemirror_mode": {
    "name": "ipython",
    "version": 3
   },
   "file_extension": ".py",
   "mimetype": "text/x-python",
   "name": "python",
   "nbconvert_exporter": "python",
   "pygments_lexer": "ipython3",
   "version": "3.6.1"
  }
 },
 "nbformat": 4,
 "nbformat_minor": 1
}
