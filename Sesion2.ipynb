{
 "cells": [
  {
   "cell_type": "markdown",
   "metadata": {},
   "source": [
    "## Pandas.\n",
    "\n",
    "En finanzas, el tiempo es una variable de gran importancia. Si el tiempo no se hubiera inventado, las finanzas no tendrían sentido, de manera que conviene conocer como tratar con variables temporales en Python. Para ello hay que empezar a trabajar con la librería **pandas** que te permitirá trabajar más cómodamente con fechas y series temporales."
   ]
  },
  {
   "cell_type": "markdown",
   "metadata": {},
   "source": [
    "** Estructuras de datos: Series y DataFrame **\n",
    "\n",
    "Una **serie** es una estructura de datos unidimensional que contiene una lista de datos y un índice que asocia a cada dato un identificador.\n",
    "\n",
    "Un **DataFrame** es una estructura de datos en forma tabular con filas y columnas, y un índice que asocia a cada fila y columna un identificador."
   ]
  },
  {
   "cell_type": "code",
   "execution_count": null,
   "metadata": {
    "collapsed": true
   },
   "outputs": [],
   "source": [
    "# Importo pandas y numpy"
   ]
  },
  {
   "cell_type": "code",
   "execution_count": null,
   "metadata": {
    "collapsed": true
   },
   "outputs": [],
   "source": [
    "# Creo un rango de fechas con date_range y freq = 'D' entre 1 de octubre y 31 de octubre y lo llamo fechas"
   ]
  },
  {
   "cell_type": "code",
   "execution_count": null,
   "metadata": {
    "collapsed": true
   },
   "outputs": [],
   "source": [
    "# Vector f de 31 aleatorios normales "
   ]
  },
  {
   "cell_type": "code",
   "execution_count": null,
   "metadata": {
    "collapsed": true
   },
   "outputs": [],
   "source": [
    "# Creo una Series con nombre serie con f, index = fechas y nombre 'Caja'"
   ]
  },
  {
   "cell_type": "markdown",
   "metadata": {},
   "source": [
    "Además de atributos, los objectos disponen de una colección de funciones que te pueden resultar de utilidad como, por ejemplo, la función **describe()**. Recuerda que puedes acceder a los atributos y funciones de un objeto escribiendo el nombre del objeto seguido de un punto y pulsando la tecla de tabulación. Verás como aparece una lista de todo lo que hay disponible. "
   ]
  },
  {
   "cell_type": "code",
   "execution_count": null,
   "metadata": {
    "collapsed": true
   },
   "outputs": [],
   "source": [
    "# Resumen estadístico con describe()"
   ]
  },
  {
   "cell_type": "markdown",
   "metadata": {},
   "source": [
    "** Ejercicio. ** Verificar que la suma de 2 dist normales con desviación típica 1 es una normal con desviación típica raíz de 2. Pista: utiliza describe().  ** 5 min **"
   ]
  },
  {
   "cell_type": "code",
   "execution_count": null,
   "metadata": {
    "collapsed": true
   },
   "outputs": [],
   "source": [
    "# Comprobar que la suma de 2 dist normales con std1 = 1 es una normal con std np.sqrt(2) raiz de 2. Utiliza describe"
   ]
  },
  {
   "cell_type": "code",
   "execution_count": null,
   "metadata": {
    "collapsed": true
   },
   "outputs": [],
   "source": [
    "# Importar matplotlib.pyplot para representar"
   ]
  },
  {
   "cell_type": "code",
   "execution_count": null,
   "metadata": {
    "collapsed": true
   },
   "outputs": [],
   "source": [
    "# Representa la serie s"
   ]
  },
  {
   "cell_type": "code",
   "execution_count": null,
   "metadata": {
    "collapsed": true
   },
   "outputs": [],
   "source": [
    "# Representa el histograma de s con bins = 30"
   ]
  },
  {
   "cell_type": "markdown",
   "metadata": {},
   "source": [
    "De la misma manera que con las listas, los vectores y las matrices, podemos acceder a los elementos de una serie por medio de su posición pero, en este caso, también por medio del valor de su índice:"
   ]
  },
  {
   "cell_type": "code",
   "execution_count": null,
   "metadata": {
    "collapsed": true
   },
   "outputs": [],
   "source": [
    "# Serie con aleatorios de longitud 31 con índice de fechas usada anterioremente"
   ]
  },
  {
   "cell_type": "code",
   "execution_count": null,
   "metadata": {
    "collapsed": true
   },
   "outputs": [],
   "source": [
    "# Presenta propiedad index"
   ]
  },
  {
   "cell_type": "code",
   "execution_count": null,
   "metadata": {
    "collapsed": true
   },
   "outputs": [],
   "source": [
    "# Presenta primer elemento"
   ]
  },
  {
   "cell_type": "code",
   "execution_count": null,
   "metadata": {
    "collapsed": true
   },
   "outputs": [],
   "source": [
    "# Presenta los tres primeros"
   ]
  },
  {
   "cell_type": "code",
   "execution_count": null,
   "metadata": {
    "collapsed": true
   },
   "outputs": [],
   "source": [
    "# Presenta el último"
   ]
  },
  {
   "cell_type": "code",
   "execution_count": null,
   "metadata": {
    "collapsed": true
   },
   "outputs": [],
   "source": [
    "# Presenta el día 4 de octubre"
   ]
  },
  {
   "cell_type": "code",
   "execution_count": null,
   "metadata": {
    "collapsed": true
   },
   "outputs": [],
   "source": [
    "# Obengo el día del mes on index.day y lo almaceno en dom"
   ]
  },
  {
   "cell_type": "code",
   "execution_count": null,
   "metadata": {
    "collapsed": true
   },
   "outputs": [],
   "source": [
    "# Obengo el día del mes on index.weekday + 1 y lo almaceno en dow"
   ]
  },
  {
   "cell_type": "code",
   "execution_count": null,
   "metadata": {
    "collapsed": true
   },
   "outputs": [],
   "source": [
    "# Creo un DataFrame con nombre tabla y data = serie. Vemos que ya está indexada"
   ]
  },
  {
   "cell_type": "code",
   "execution_count": null,
   "metadata": {
    "collapsed": true
   },
   "outputs": [],
   "source": [
    "# Podemos añadir nuevas columnas tabla['DOM'] y tabla['DOW'] a nuestro DataFrame"
   ]
  },
  {
   "cell_type": "markdown",
   "metadata": {},
   "source": [
    "¿Cómo se filtra un DataFrame?"
   ]
  },
  {
   "cell_type": "code",
   "execution_count": null,
   "metadata": {
    "collapsed": true
   },
   "outputs": [],
   "source": [
    "# Presentamos columna DOW"
   ]
  },
  {
   "cell_type": "code",
   "execution_count": null,
   "metadata": {
    "collapsed": true
   },
   "outputs": [],
   "source": [
    "# Filtramos por tabla[tabla.DOW] igual a 7"
   ]
  },
  {
   "cell_type": "code",
   "execution_count": null,
   "metadata": {
    "collapsed": true
   },
   "outputs": [],
   "source": [
    "# Presentamos primer elemento de primera columna [0][0] con iloc"
   ]
  },
  {
   "cell_type": "code",
   "execution_count": null,
   "metadata": {
    "collapsed": true
   },
   "outputs": [],
   "source": [
    "# Presentamos primer elemento de segunda columna [0][1] con iloc"
   ]
  },
  {
   "cell_type": "code",
   "execution_count": null,
   "metadata": {
    "collapsed": true
   },
   "outputs": [],
   "source": [
    "# Filtrando no festivos con DOW < 6"
   ]
  },
  {
   "cell_type": "code",
   "execution_count": null,
   "metadata": {
    "collapsed": true
   },
   "outputs": [],
   "source": [
    "# Muestra nombre de las columnas con propiedad columns"
   ]
  },
  {
   "cell_type": "code",
   "execution_count": null,
   "metadata": {
    "collapsed": true
   },
   "outputs": [],
   "source": [
    "# Ordena by='Caja'"
   ]
  },
  {
   "cell_type": "code",
   "execution_count": null,
   "metadata": {
    "collapsed": true
   },
   "outputs": [],
   "source": [
    "# Media, min, max, std de Caja"
   ]
  },
  {
   "cell_type": "code",
   "execution_count": null,
   "metadata": {
    "collapsed": true
   },
   "outputs": [],
   "source": [
    "# Suma acumulada de Caja"
   ]
  },
  {
   "cell_type": "code",
   "execution_count": null,
   "metadata": {
    "collapsed": true
   },
   "outputs": [],
   "source": [
    "# Presento caja"
   ]
  },
  {
   "cell_type": "code",
   "execution_count": null,
   "metadata": {
    "collapsed": true
   },
   "outputs": [],
   "source": [
    "# Calculo la suma de Caja agrupada por día de la semana"
   ]
  },
  {
   "cell_type": "code",
   "execution_count": null,
   "metadata": {
    "collapsed": true
   },
   "outputs": [],
   "source": [
    "# Añado nueva columna a tabla con la suma acumulada de Caja"
   ]
  },
  {
   "cell_type": "code",
   "execution_count": null,
   "metadata": {
    "collapsed": true
   },
   "outputs": [],
   "source": [
    "# Añado nueva columna a tabla con el valor mínimo de Caja"
   ]
  },
  {
   "cell_type": "code",
   "execution_count": null,
   "metadata": {
    "collapsed": true
   },
   "outputs": [],
   "source": [
    "otratabla = tabla.drop('Min', axis=1)   # Devuelve un nuevo objeto eliminando columna Min\n",
    "otratabla"
   ]
  },
  {
   "cell_type": "markdown",
   "metadata": {
    "collapsed": true
   },
   "source": [
    "** Importar y exportar datos **"
   ]
  },
  {
   "cell_type": "code",
   "execution_count": null,
   "metadata": {
    "collapsed": true
   },
   "outputs": [],
   "source": [
    " # Exportar la tabla a excel con nombre tablaexcel"
   ]
  },
  {
   "cell_type": "code",
   "execution_count": null,
   "metadata": {
    "collapsed": true
   },
   "outputs": [],
   "source": [
    " # Lee la tabla y la almacena en otra tabla"
   ]
  },
  {
   "cell_type": "markdown",
   "metadata": {},
   "source": [
    "**Resumen de pandas **\n",
    "\n",
    "-Rangos de fechas con pd.date_range\n",
    "\n",
    "-Series temporales con pd.Series() --> unidimensionales\n",
    "\n",
    "-Tablas de datos con pd.DataFrame() --> bidimensionales\n",
    "\n",
    "-Index es el elemento clave para buscar datos en una Series o DataFrame\n",
    "\n",
    "-¿Cómo añadir columnas a un DataFrame? df['nuevacol'] = variable\n",
    "\n",
    "-¿Cómo filtrar un DataFrame? --> df[df.col=='valor']\n",
    "\n",
    "-Importar y exportar datos"
   ]
  },
  {
   "cell_type": "markdown",
   "metadata": {},
   "source": [
    "# Visualizando datos con Matplotlib\n",
    "\n",
    "Además de **numpy** y **pandas**, la librería que probablemente utilizarás con mayor frecuencia al trabajar con Python es **matplotlib** ya que te permitirá representar gráficamente cualquier variable de interés como el flujo de caja o el saldo previsto para los próximos días de las cuentas que debas controlar. Lo primero que tendrás que hacer es importar la librería como se muestra en el siguiente ejemplo. Además, si estás trabajando con un Notebook conviene que ejecutes también la instrucción especial **%matplotlib inline** para que las gráficas se presenten como resultado de la ejecución de las celdas y no en una ventana diferente."
   ]
  },
  {
   "cell_type": "code",
   "execution_count": null,
   "metadata": {
    "collapsed": true
   },
   "outputs": [],
   "source": [
    "# Importo numpy, matplotlib y %matplotlib inline si es necesario\n",
    "import matplotlib.pyplot as plt"
   ]
  },
  {
   "cell_type": "markdown",
   "metadata": {},
   "source": [
    "Vamos a representar el valor futuro de una cantidad inicial $c_0$ capitalizado mediante interés compuesto:\n",
    "\n",
    "$$c_t = c_0 \\cdot (1+i)^t$$"
   ]
  },
  {
   "cell_type": "code",
   "execution_count": null,
   "metadata": {
    "collapsed": true
   },
   "outputs": [],
   "source": [
    "# Datos de partida c0 = 1000 e i = 0.05\n",
    "\n",
    "# Creamos vector de tiempos 50 puntos entre 0 y 50 con np. linspace\n",
    "\n",
    "# Calculamos ct con la fórmula\n"
   ]
  },
  {
   "cell_type": "code",
   "execution_count": null,
   "metadata": {
    "collapsed": true
   },
   "outputs": [],
   "source": [
    "# Dibujamos la gráfica con plot"
   ]
  },
  {
   "cell_type": "code",
   "execution_count": null,
   "metadata": {
    "collapsed": true
   },
   "outputs": [],
   "source": [
    "# Mejoramos la gráfica representando puntos '.', color negro y añadiendo una etiqueta-label\n",
    "\n",
    "# Añadimos título al eje vertical y horizontal colocamos legend en loc=\"upper left\"\n"
   ]
  },
  {
   "cell_type": "markdown",
   "metadata": {},
   "source": [
    "** Visualización conjunta de gráficos **"
   ]
  },
  {
   "cell_type": "markdown",
   "metadata": {},
   "source": [
    "Primero, un gráfico lineal con el flujo de caja aleatorio de 100 días distribuido normalmente con media 0 y desviación típica 4; segundo, otro gráfico lineal con el saldo acumulado a partir de un valor inicial de 10."
   ]
  },
  {
   "cell_type": "code",
   "execution_count": null,
   "metadata": {
    "collapsed": true
   },
   "outputs": [],
   "source": [
    "# Datos iniciales inibal = 10, x = vector 100 puntos con linspace, mu = 0, sd= 4\n",
    "\n",
    "# Generamos 100 valores aleatorios con media 0 y std 4 y lo almacenamos en y\n",
    "\n",
    "# Calculamos acum como suma de inibal y la suma del flujo de caja acumulado de y\n"
   ]
  },
  {
   "cell_type": "code",
   "execution_count": null,
   "metadata": {
    "collapsed": true
   },
   "outputs": [],
   "source": [
    "# Creamos objeto plt.figure con tamaño figsize =(10,5)\n",
    "\n",
    "# Seleccionamos primer gráfico con subplot(1,2,1) y dibujamos x-y\n",
    "\n",
    "# Seleccionamos segundo gráfico con subplot(1,2,1) y dibujamos x-acum\n"
   ]
  },
  {
   "cell_type": "markdown",
   "metadata": {},
   "source": [
    "** Ejercicio. ** Representa cuatro gráficos a la vez como en una matriz $2 \\times 2$. Primero, un gráfico lineal con el flujo de caja aleatorio de 100 días distribuido normalmente con media 0 y desviación típica 4; segundo, otro gráfico lineal con el saldo acumulado a partir de un valor inicial de 10 añadiendo dos límites de control horizontales en 5 (en color rojo) y en 15 (en color verde); tercero, un gráfico de barras del saldo bancario de manera que cuando el saldo es negativo la barra sea roja y azul en caso de saldo positivo; y cuarto, un histograma con fondo verde de la distribución de frecuencias de los flujo de caja aleatorios del primer gráfico. Y todo ello, en un único gráfico de $10 \\times 10$ pulgadas. Cada eje de cada gráfico debe tener su título también. "
   ]
  },
  {
   "cell_type": "code",
   "execution_count": null,
   "metadata": {
    "collapsed": true
   },
   "outputs": [],
   "source": [
    "# Pista para obtener valores positivos y negativos del balance de caja acumulado\n",
    "bpos = [max(i, 0) for i in acum]\n",
    "bneg = [min(i, 0) for i in acum]\n",
    "np.mean(bpos), np.mean(bneg)"
   ]
  },
  {
   "cell_type": "code",
   "execution_count": null,
   "metadata": {
    "collapsed": true
   },
   "outputs": [],
   "source": [
    "# Ejercicio 4 gráficos"
   ]
  },
  {
   "cell_type": "markdown",
   "metadata": {},
   "source": [
    "**Ejercicio** gráfica con anotaciones"
   ]
  },
  {
   "cell_type": "code",
   "execution_count": null,
   "metadata": {
    "collapsed": true
   },
   "outputs": [],
   "source": [
    "fig = plt.figure(figsize=(8,6))\n",
    "ax1 = plt.subplot()\n",
    "plt.hist(y, color = 'white', edgecolor= 'k', normed = True)\n",
    "plt.plot([0,0], [0,0.25],color='k',linewidth=2)\n",
    "plt.annotate('', xy=(5,0.2), xytext=(0,0.2),\n",
    "                arrowprops=dict(facecolor='black',\n",
    "                shrink=0,\n",
    "                alpha=0.7,\n",
    "                width=0.5))\n",
    "plt.annotate('', xy=(-5,0.2), xytext=(0,0.2), \n",
    "                arrowprops=dict(facecolor='black',\n",
    "                shrink=0,\n",
    "                alpha=0.7,\n",
    "                width=0.5))\n",
    "ax1.text(-4, 0.21, str('Negativo'),fontsize=15)\n",
    "ax1.text(4, 0.21, str('Positivo'),fontsize=15)\n",
    "plt.xlabel('Acumulado',fontsize=15)\n",
    "plt.ylabel('Probabilidad',fontsize=15)\n",
    "#plt.xticks([0], '0', fontsize=15)\n",
    "plt.axis([-10,10,0,0.25])\n",
    "plt.show()"
   ]
  },
  {
   "cell_type": "markdown",
   "metadata": {},
   "source": [
    "** Ejercicio **. Otro gráfico para practicar"
   ]
  },
  {
   "cell_type": "code",
   "execution_count": null,
   "metadata": {
    "collapsed": true
   },
   "outputs": [],
   "source": [
    "# datos de partida\n",
    "train = np.array([[0.2,0.6],[0.34,0.4],[0.7,0.3]])\n",
    "test = np.array([[0.3,0.7],[0.2,0.4],[0.8,0.6]])\n",
    "train"
   ]
  },
  {
   "cell_type": "code",
   "execution_count": null,
   "metadata": {
    "collapsed": true
   },
   "outputs": [],
   "source": [
    "test"
   ]
  },
  {
   "cell_type": "code",
   "execution_count": null,
   "metadata": {
    "collapsed": true
   },
   "outputs": [],
   "source": [
    "fig = plt.figure(figsize=(6,6))\n",
    "shift = 0.1\n",
    "ax = fig.add_subplot(111)\n",
    "plt.scatter(train[:,0],train[:,1], s = 40, marker = 'o',color ='k')\n",
    "plt.scatter(test[:,0],test[:,1],s = 40, marker = 'x',color = 'k' )\n",
    "plt.plot([0,test[1,0]],[0, test[1,1]], color='k')\n",
    "plt.plot([0,train[1,0]],[0, train[1,1]], color='k')\n",
    "for i in range(len(train)):\n",
    "    plt.plot([train[i,0], test[i,0]],[train[i,1], test[i,1]], color='k')\n",
    "    plt.plot([train[i,0], test[i,0]],[train[i,1], test[i,1]], color='k')\n",
    "ax.text(train[0,0]-shift, train[0,1], str('$P_1$'),fontsize=15)\n",
    "ax.text(test[0,0]-shift, test[0,1], str('$P_1^{\\prime}$'),fontsize=15)\n",
    "ax.text(train[1,0]+0.04, train[1,1], str('$P_2$'),fontsize=15)\n",
    "ax.text(test[1,0]-shift, test[1,1], str('$P_2^{\\prime}$'),fontsize=15)\n",
    "ax.text(train[2,0]-shift, train[2,1], str('$P_3$'),fontsize=15)\n",
    "ax.text(test[2,0]-shift, test[2,1], str('$P_3^{\\prime}$'),fontsize=15)\n",
    "ax.text(0.3, 0.6, str('$d_1$'),fontsize=15)\n",
    "ax.text(0.25, 0.45, str('$d_2$'),fontsize=15)\n",
    "ax.text(0.8, 0.4, str('$d_3$'),fontsize=15)\n",
    "ax.text(0.05, 0.25, str('$\\\\delta_2^{\\prime}$'),fontsize=15)\n",
    "ax.text(0.25, 0.25, str('$\\\\delta_2$'),fontsize=15)\n",
    "plt.xlabel('Cost index $\\\\theta_1$',fontsize=12)\n",
    "plt.ylabel('Risk index $\\\\theta_2$',fontsize=12)\n",
    "plt.axis([0,1,0,1])\n",
    "plt.axes().set_aspect('equal')\n",
    "plt.show()"
   ]
  }
 ],
 "metadata": {
  "kernelspec": {
   "display_name": "Python 3",
   "language": "python",
   "name": "python3"
  },
  "language_info": {
   "codemirror_mode": {
    "name": "ipython",
    "version": 3
   },
   "file_extension": ".py",
   "mimetype": "text/x-python",
   "name": "python",
   "nbconvert_exporter": "python",
   "pygments_lexer": "ipython3",
   "version": "3.6.1"
  }
 },
 "nbformat": 4,
 "nbformat_minor": 1
}
