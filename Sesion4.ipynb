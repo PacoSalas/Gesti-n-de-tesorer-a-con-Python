{
 "cells": [
  {
   "cell_type": "markdown",
   "metadata": {},
   "source": [
    "## Sesión 4. Implementando el modelo Miller-Orr"
   ]
  },
  {
   "cell_type": "markdown",
   "metadata": {
    "collapsed": true
   },
   "source": [
    "** Un modelo estocástico ** = conjunto de reglas de decisión para controlar el saldo de una cuenta. Normalmente están basados en límites de control de manera que cuando cierto nivel de caja es superado (o por arriba o por abajo) se ejecuta una acción de control que lleva el saldo a un nivel de caja objetivo.\n",
    "\n",
    "¿Por qué un modelo estocástico? No hay que esperar a que el nivel de caja esté en cero para ejecutar una acción de control. La incertidumbre sobre el futuro nos obliga a disponer de cierto nivel de caja por motivos de precaución. Para ello es necesario estudiar las propiedades estadísticas de los flujos de caja a los que nos enfrentamos.\n",
    "\n",
    "¿Los modelos estocásticos y deterministas, pueden convivir? Pueden y deben convivir. Podemos separar los flujos de caja mayores (deterministas) de los menores (estocásticos). Aplicar los dos modelos y agregar los dos planes de tesorería.\n",
    "\n",
    "Figura del modelo de Miller-Orr. Modelo de tres niveles basado en dos activos: una cuenta de efectivo y una cuenta de inversiones financieras temporales disponibles. Vamos a programar el modelo de Miller-Orr que es lo mismo que programar la siguiente función:\n",
    "\n",
    "$$x_t=\\left\\{\\begin{array}{lll}z-b_{t-1}, & \\mbox{if} & b_{t-1} > h \\\\ 0, &\\mbox{if} & l<b_{t-1}<h  \\\\z-b_{t-1}, & \\mbox{if} & b_{t-1} < l. \\end{array}\\right. $$"
   ]
  },
  {
   "cell_type": "code",
   "execution_count": null,
   "metadata": {},
   "outputs": [],
   "source": [
    "from IPython.display import Image\n",
    "Image(filename = \"Miller.jpg\", embed = True, width = 500, height = 500)"
   ]
  },
  {
   "cell_type": "code",
   "execution_count": null,
   "metadata": {
    "collapsed": true
   },
   "outputs": [],
   "source": [
    "# Importamos librerías numpy y matplotlib\n"
   ]
  },
  {
   "cell_type": "code",
   "execution_count": null,
   "metadata": {
    "collapsed": true
   },
   "outputs": [],
   "source": [
    "# Definimos una funcion transfer que obtiene una transacción a partir de un saldo inicial bal y tres niveles h, z y l\n",
    "# según modelo Miller-Orr con if, elif, else.  Incluir comentarios para docstring con comillas triples.\n",
    "def transfer(H, Z, L, s):\n",
    "    \"\"\"Calcular la transacción x partir H, Z y L para un saldo s\"\"\"\n",
    "    if s > H:\n",
    "        x = Z - s\n",
    "    elif s < L:\n",
    "        x = Z - s\n",
    "    else:\n",
    "        x = 0\n",
    "    return(x)"
   ]
  },
  {
   "cell_type": "code",
   "execution_count": null,
   "metadata": {},
   "outputs": [],
   "source": [
    "# Para comprobar que funciona damos valores a h=100, z=80 y l=60.\n",
    "H = 100\n",
    "Z = 80\n",
    "L = 60\n",
    "H, Z, L"
   ]
  },
  {
   "cell_type": "code",
   "execution_count": null,
   "metadata": {},
   "outputs": [],
   "source": [
    "# Partiendo de b0 = 50 el resultado de transfer debe ser 30. Comprobar docstring con Shift+Tab\n",
    "transfer(H, Z, L, 50)"
   ]
  },
  {
   "cell_type": "markdown",
   "metadata": {},
   "source": [
    "**Ejercicio.** Si te das cuenta la acción de control x es la misma tanto si estamos por encima de h como si estamos por debajo de l. Define una función transfer2 de manera que la instrucción if compruebe las dos condiciones."
   ]
  },
  {
   "cell_type": "code",
   "execution_count": null,
   "metadata": {
    "collapsed": true
   },
   "outputs": [],
   "source": [
    "# Función transfer 2 con if-else-or\n",
    "def transfer2(H, Z, L, s):\n",
    "    \"\"\"Calcular la transacción x partir H, Z y L para un saldo s\"\"\"\n",
    "    if s > H or s < L:\n",
    "        x = Z - s\n",
    "    else:\n",
    "        x = 0\n",
    "    return(x)"
   ]
  },
  {
   "cell_type": "code",
   "execution_count": null,
   "metadata": {},
   "outputs": [],
   "source": [
    "# Comprobamos que devuelve el mismo resultado\n",
    "transfer2(H, Z, L, 50)"
   ]
  },
  {
   "cell_type": "markdown",
   "metadata": {},
   "source": [
    "¿Y cómo se calculan estos niveles de control del modelo de Miller? El autor nos da dos fórmulas para calcular los niveles a partir de los costes de transacción y mantenimiento.\n",
    "\n",
    "$$ z = l + \\sqrt[3]{\\frac{3 \\gamma_0 \\sigma^2}{v^+}} $$\n",
    "\n",
    "$$ h = 3z - 2l $$\n",
    "\n",
    "donde $\\sigma$ es la desviación típica de un flujo de caja normal, $\\gamma_0$ es el coste fijo de transacción y $v^+$ es el coste de mantener una unidad monetaria en efectivo (coste de oportunidad por no estar obteniendo una rentabilidad $v^+$ si invirtiéramos ese dinero en un activo a corto plazo más rentable). "
   ]
  },
  {
   "cell_type": "code",
   "execution_count": null,
   "metadata": {
    "collapsed": true
   },
   "outputs": [],
   "source": [
    "# Introducimos datos de partida l = 0, g0 = 5, sigma = 0.01, vpos = 0.001\n",
    "L = 0\n",
    "g0 = 5\n",
    "sigma = 0.01\n",
    "vpos = 0.001"
   ]
  },
  {
   "cell_type": "code",
   "execution_count": null,
   "metadata": {},
   "outputs": [],
   "source": [
    "# Calculamos Z, H a partir de las fórmulas y presentamos H, Z y L\n",
    "Z = L + ((3 * g0 * sigma ** 2)/vpos)**(1/3)\n",
    "H = 3 * Z - 2 * L \n",
    "H, Z, L"
   ]
  },
  {
   "cell_type": "markdown",
   "metadata": {},
   "source": [
    "Ya sabemos como calcular los límites de control y las transferencias. Ahora habría que calcular los costes de un plan de tesorería aplicado sobre un horizonte de planificación. Para esto tendremos que programar las funciones de cálculo de costes de transacción y mantenimiento.\n",
    "\n",
    "$$ \\Gamma(x_t) = \\left\\{\\begin{array}{lll} \\gamma_0 + \\gamma_ 1 \\cdot x_t & \\mbox{si} & x_t \\geq 0 \\\\ 0 & \\mbox{si} & x_t = 0 \\\\ \\gamma_0 - \\gamma_ 1 \\cdot x_t & \\mbox{si} & x_t \\leq 0 \\end{array}\\right.$$\n",
    "\n",
    "$$ H(b_t) = \\left\\{\\begin{array}{lll} v^+ \\cdot b_t & \\mbox{si} & b_t \\geq 0 \\\\ -v^- \\cdot b_t & \\mbox{si} & b_t <0. \\end{array}\\right.$$ "
   ]
  },
  {
   "cell_type": "code",
   "execution_count": null,
   "metadata": {
    "collapsed": true
   },
   "outputs": [],
   "source": [
    "# Definimos una funcion costetrans a partir de x, gamma0 y gamma1. ctrans = 0, Si x>0, elif x<0, return ctrans\n"
   ]
  },
  {
   "cell_type": "code",
   "execution_count": null,
   "metadata": {
    "collapsed": true
   },
   "outputs": [],
   "source": [
    "# Comprobamos costetrans con x = -100, g0 = 10 y g1 = 0.01\n"
   ]
  },
  {
   "cell_type": "code",
   "execution_count": null,
   "metadata": {
    "collapsed": true
   },
   "outputs": [],
   "source": [
    "# Definimos costeman a partir de un saldo b y un coste de mantenimiento vpos o vneg\"\"\"\n"
   ]
  },
  {
   "cell_type": "code",
   "execution_count": null,
   "metadata": {
    "collapsed": true
   },
   "outputs": [],
   "source": [
    "# Comprobamos costeman con b = -100, vpos = 0.01 y vneg = 0.3\n"
   ]
  },
  {
   "cell_type": "markdown",
   "metadata": {},
   "source": [
    "Estos son costes para cada período del horizonte de planificación pero para calcular el coste total necesitamos una ecuación que nos relacione el saldo de caja entre períodos consecutivos:\n",
    "\n",
    "$$ b_t = b_{t-1} + x_t + f_t $$"
   ]
  },
  {
   "cell_type": "code",
   "execution_count": null,
   "metadata": {
    "collapsed": true
   },
   "outputs": [],
   "source": [
    "# Definimos una funcion costes que Calcula el coste total para un flujo de caja f partiendo de un saldo inicial ini\n",
    "# Los parámetros de entrada son h, z, l, g0, g1, vpos, vneg, f e ini\n",
    "# Primero set inibal to ini, costes=[] y para cada elemento de f utilizamos la función transfer para calcular x\n",
    "# Luego actualizamos bal según ecuación bal =  inibal + x + elem y append los dos costes costetrans y costeman a lista costes"
   ]
  },
  {
   "cell_type": "code",
   "execution_count": null,
   "metadata": {
    "collapsed": true
   },
   "outputs": [],
   "source": [
    "# Lista de flujo aleatorio normal (0,2) de longitud 5 con nombre flow\n"
   ]
  },
  {
   "cell_type": "code",
   "execution_count": null,
   "metadata": {
    "collapsed": true
   },
   "outputs": [],
   "source": [
    "# Presentamos H, Z y L para recordar valores"
   ]
  },
  {
   "cell_type": "code",
   "execution_count": null,
   "metadata": {
    "collapsed": true
   },
   "outputs": [],
   "source": [
    "# Fijamos b0 a z y valores g0 = 5, g1 = 0.0, vpos = 0.001 y vneg = 0.3\n"
   ]
  },
  {
   "cell_type": "code",
   "execution_count": null,
   "metadata": {
    "collapsed": true
   },
   "outputs": [],
   "source": [
    "# Calculamos costes y los asignamos a la lista c\n"
   ]
  },
  {
   "cell_type": "code",
   "execution_count": null,
   "metadata": {
    "collapsed": true
   },
   "outputs": [],
   "source": [
    "# Podemos calular el total, la media, max, min y std\n"
   ]
  },
  {
   "cell_type": "code",
   "execution_count": null,
   "metadata": {
    "collapsed": true
   },
   "outputs": [],
   "source": [
    "# Podemos asignar c a una Series de pandas y utilizar describe\n"
   ]
  },
  {
   "cell_type": "markdown",
   "metadata": {},
   "source": [
    "En la función costes hemos utilizado transfer para calcular costes a partir de las acciones de control x. De manera muy similar, podemos definir una función que nos devuelva nuestro plan de tesorería con la secuencia de acciones de control."
   ]
  },
  {
   "cell_type": "code",
   "execution_count": null,
   "metadata": {
    "collapsed": true
   },
   "outputs": [],
   "source": [
    "# Función plan que devuelve el plan de tesorería\n"
   ]
  },
  {
   "cell_type": "code",
   "execution_count": null,
   "metadata": {
    "collapsed": true
   },
   "outputs": [],
   "source": [
    "# Comprobamos que funciona almacenado en X mayúscula el plan para b0 = z\n"
   ]
  },
  {
   "cell_type": "markdown",
   "metadata": {},
   "source": [
    "** Ejercicio **. Define una función balance que calcule el saldo bancario para flujo de caja f y saldo inicial ini aplicando el modelo de Miller-Orr."
   ]
  },
  {
   "cell_type": "code",
   "execution_count": null,
   "metadata": {
    "collapsed": true
   },
   "outputs": [],
   "source": [
    "# Función balance que devuelve el saldo saldo bancario\n"
   ]
  },
  {
   "cell_type": "code",
   "execution_count": null,
   "metadata": {
    "collapsed": true
   },
   "outputs": [],
   "source": [
    "# Comprobamos que funciona almacenado en B mayúscula el saldo bancario para para b0 = Z\n"
   ]
  },
  {
   "cell_type": "code",
   "execution_count": null,
   "metadata": {
    "collapsed": true
   },
   "outputs": [],
   "source": [
    "# Representamos balpos y balneg en gráfico de barras a partir con max(i, 0) para i in B\n"
   ]
  },
  {
   "cell_type": "markdown",
   "metadata": {},
   "source": [
    "** Concepto de clase. ** En programación orientada a objetos, una clase es un conjunto de métodos y atributos que definen el comportamiento y el estado de un objeto.\n",
    "\n",
    "A nosotros nos va a servir para empaquetar el Modelo de Miller-Orr."
   ]
  },
  {
   "cell_type": "code",
   "execution_count": null,
   "metadata": {
    "collapsed": true
   },
   "outputs": [],
   "source": [
    "# Definición de class miller(object):\n",
    "\n",
    "# def __init__(self, g0, g1, vpos, vneg, L, Z, H)\n",
    "\n",
    "# def transfer(self, b0)\n",
    "\n",
    "# def costetrans(self, x)\n",
    "\n",
    "# def costeman(self, b)\n",
    "\n",
    "# def costes(self, f, b0)  # Añadimos self.plan.append y self.balance.append\n"
   ]
  },
  {
   "cell_type": "code",
   "execution_count": null,
   "metadata": {
    "collapsed": true
   },
   "outputs": [],
   "source": [
    "# Creamos un modelo de miller que llamamos modelo\n"
   ]
  },
  {
   "cell_type": "code",
   "execution_count": null,
   "metadata": {
    "collapsed": true
   },
   "outputs": [],
   "source": [
    "# Calculamos costes llamando a modelo.costes(f, b0)\n"
   ]
  },
  {
   "cell_type": "code",
   "execution_count": null,
   "metadata": {
    "collapsed": true
   },
   "outputs": [],
   "source": [
    "# Extraemos la propiedad modelo.plan\n"
   ]
  },
  {
   "cell_type": "code",
   "execution_count": null,
   "metadata": {
    "collapsed": true
   },
   "outputs": [],
   "source": [
    "# Obtenmos el saldo bancario con modelo.balance\n"
   ]
  },
  {
   "cell_type": "markdown",
   "metadata": {
    "collapsed": true
   },
   "source": [
    "** Ejercicio. ** Construir una clase para el modelo de Gormley con 4 niveles de control estáticos y que utiliza previsiones de flujo de caja como entradas. El saldo de caja se mueve entre dos límites: uno superior $D$ y otro inferior $V$. Cuando el saldo más la previsión para el próximo periodo supera el límite $V$ se ejecuta una acción de control $x_t$ que lleva el saldo a $v$ minúscula. Y cuando el saldo más la previsión para el próximo periodo cae por dabajo del límite $D$ se ejecuta una acción de control $x_t$ que lleva el saldo a $d$ minúscula. \n",
    "\n",
    "\n",
    "$$x_t=\\left\\{\\begin{array}{lll}v_{t}-\\hat{b}_{t-1}-\\hat{f}_{t}, & \\mbox{if} & \\hat{b}_{t-1}+\\hat{f}_{t}> V_{t}, \\\\ 0, & &\\mbox{otherwise,}  \\\\d_{t}-\\hat{b}_{t-1}-\\hat{f}_{t}, & \\mbox{if} & \\hat{b}_{t-1}+\\hat{f}_{t}<D_{t}\\end{array}\\right.$$ \n"
   ]
  },
  {
   "cell_type": "markdown",
   "metadata": {},
   "source": [
    "## Simulación de sistemas de tesorería\n",
    "\n",
    "- Configuración del sistema: número de cuentas, número de transacciones, cálculo de saldos previstos y costes asociados.\n",
    "- Selección del flujo de caja: estudiaremos diferentes tipologías de costes.\n",
    "- Plan de tesorería (viabilidad y costes)"
   ]
  },
  {
   "cell_type": "code",
   "execution_count": null,
   "metadata": {
    "collapsed": true
   },
   "outputs": [],
   "source": [
    "# Importamos numpy y matplotlib\n",
    "import numpy as np\n",
    "import matplotlib.pyplot as plt\n",
    "%matplotlib inline"
   ]
  },
  {
   "cell_type": "code",
   "execution_count": null,
   "metadata": {},
   "outputs": [],
   "source": [
    "from IPython.display import Image  #Esto funciona si no tenéis la imagen en el mismo directorio del notebook\n",
    "Image(filename = \"twoassets.jpg\", embed = True, width = 500, height = 500)"
   ]
  },
  {
   "cell_type": "markdown",
   "metadata": {},
   "source": [
    "Lo primero que tenemos que hacer es configurar nuestro sistema de tesoreríar. Para ello, lo mejor es utilizar lápiz y papel. Si utilizamos círculos para las cuentas y flechas para las posibles transacciones podemos representar fácilmente un sistema de tesorería con multiples cuentas mediante un grafo. Veamos un ejemplo. Vamos a representar un sistema de dos cuentas con dos posibles transacciones. El flujo neto esperado se representa mediante una flecha que proviene del exterior. Si introducimos ahora la variable tiempo, en este grafo se cumple que el saldo bancario al final de cada período es la suma del saldo inicial más el flujo de caja esperado más la suma de las transacciones de entrada ménos la suma de las transacciones de salida. Por ejemplo:\n",
    "\n",
    "$$\\hat{b}_{1,t} = \\hat{b}_{1,t-1} + \\hat{f}_{1,t} + x_{1,t} - x_{2,t}$$\n",
    "\n",
    "$$\\hat{b}_{2,t} = \\hat{b}_{2,t-1} + x_{2,t} - x_{1,t}$$\n",
    "\n",
    "Utilizando notación vectorial podemos representar en una sola ecuación cualquier número de cuentas mediante la siguiente ecuación que incluye la matriz de incidencia $A$:\n",
    "\n",
    "$$b_t = b_{t-1} + f_t + A \\cdot x_t$$"
   ]
  },
  {
   "cell_type": "code",
   "execution_count": null,
   "metadata": {},
   "outputs": [],
   "source": [
    "# Matriz A que define la evoluación de un sistema de dos cuentas como el de la figura\n"
   ]
  },
  {
   "cell_type": "code",
   "execution_count": null,
   "metadata": {
    "collapsed": true
   },
   "outputs": [],
   "source": [
    "# Para este sistema de tesorería vamos a generar unos datos numéricos como ejemplo\n",
    "# Número de cuentas m = 2\n",
    "\n",
    "# Número de transacciones n = 2\n",
    "\n",
    "# Saldo inicial vector b0 de 10 y 5 u.m para cuenta 1 y 2 array sin dimension\n",
    "\n",
    "# Horizonte de planificación P = 5\n"
   ]
  },
  {
   "cell_type": "code",
   "execution_count": null,
   "metadata": {},
   "outputs": [],
   "source": [
    "#Para facilitar los cálculos consideramos flujo de caja f1 cero para la cuenta 1 y reshape((P,1))\n"
   ]
  },
  {
   "cell_type": "code",
   "execution_count": null,
   "metadata": {},
   "outputs": [],
   "source": [
    "#Flujo de caja f2=0 con np.zeros para la cuenta 2\n"
   ]
  },
  {
   "cell_type": "code",
   "execution_count": null,
   "metadata": {},
   "outputs": [],
   "source": [
    "# Ahora podemos concatenar los dos flujos de caja en una única matriz F mediante np.hstack((f1,f2))\n",
    "\n",
    "# O mediante np.zeros((P, m))\n"
   ]
  },
  {
   "cell_type": "code",
   "execution_count": null,
   "metadata": {},
   "outputs": [],
   "source": [
    "# Consideremos una acción de control cualquiera como por ejemplo transferir una unidad a la cuenta 2.\n",
    "# Creamos X oncatenando vector ceros y un vector de unos de dimension (P, 1)\n"
   ]
  },
  {
   "cell_type": "markdown",
   "metadata": {},
   "source": [
    "Nos interesa es ver el vector de saldos resultante de aplicar acciones de control X bajo el flujo de caja F\n",
    "¿Cómo calculamos $b_t$?\n",
    "\n",
    "$b_t = b_{t-1} + f_t + A \\cdot x_t$\n"
   ]
  },
  {
   "cell_type": "code",
   "execution_count": null,
   "metadata": {},
   "outputs": [],
   "source": [
    "# Veamos que pasa en el primer periodo (t = 0): 1) Multiplicamos con np.dot la matriz A por la primera fila de transacciones X\n"
   ]
  },
  {
   "cell_type": "code",
   "execution_count": null,
   "metadata": {},
   "outputs": [],
   "source": [
    "# Le añadimos el flujo de caja F del primer periodo con la dimension adecuada\n"
   ]
  },
  {
   "cell_type": "code",
   "execution_count": null,
   "metadata": {},
   "outputs": [],
   "source": [
    "# Finalmente sumamos el saldo inicial b0\n"
   ]
  },
  {
   "cell_type": "code",
   "execution_count": null,
   "metadata": {},
   "outputs": [],
   "source": [
    "# Comprobamos para la cuenta 1 que 10 - 0 + 0 - 1\n"
   ]
  },
  {
   "cell_type": "code",
   "execution_count": null,
   "metadata": {},
   "outputs": [],
   "source": [
    "# Comprobamos para la cuenta 2 que 5 + 0 + 1 - 0\n"
   ]
  },
  {
   "cell_type": "code",
   "execution_count": null,
   "metadata": {},
   "outputs": [],
   "source": [
    "# Mediante un bucle for podemos calcular los saldos para el resto de días\n",
    "# Lista vacía bal\n",
    "\n",
    "# Bucle for t in range(P)\n",
    "# Si t == 0 bal.append b0 + F[t,:] + A X y en caso contrario bal[t-1]+F[t,:]+A X[t,:]\n",
    "\n",
    "# Finalmente transformamos bal en array B (P, m)\n"
   ]
  },
  {
   "cell_type": "code",
   "execution_count": null,
   "metadata": {
    "collapsed": true
   },
   "outputs": [],
   "source": [
    "# Para facilitar su utilización podemos definir uan función que calcule B a partir de b0, A, X y F \n",
    "# con P = F.shape[0] y m =A.shape[0]\n"
   ]
  },
  {
   "cell_type": "code",
   "execution_count": null,
   "metadata": {},
   "outputs": [],
   "source": [
    "# Comprobamos que devuelve el mismo resultado que antes\n"
   ]
  },
  {
   "cell_type": "code",
   "execution_count": null,
   "metadata": {},
   "outputs": [],
   "source": [
    "from IPython.display import Image  #Esto funciona si no tenéis la imagen en el mismo directorio del notebook\n",
    "Image(filename = \"twoassets.jpg\", embed = True, width = 500, height = 500)"
   ]
  },
  {
   "cell_type": "markdown",
   "metadata": {},
   "source": [
    "Una vez obtenido el saldo de caja final, podemos calcular los costes del plan de tesorería mediante las siguientes ecuaciones vectoriales:\n",
    "\n",
    "El coste de transacción tiene una parte fija $\\gamma_0$ y una parte variable $\\gamma_1$ que es proporcional a la transacción $x_t$. Como ahora este $x_t$ es un vector porque estamos tratando con un sistema de varias cuentas, utilizamos vectores para calcular los costes totales.\n",
    "\n",
    "Sea $\\gamma_0$ un vector de costes fijos para cada transacción (en nuestro ejemplo $x_1$ y $x_2$) y sea $\\gamma_1$ un vector de costes variables para cada transacción, el coste total para cada instante de tiempo es:\n",
    "\n",
    "$$\\Gamma(x_t) = \\gamma_0^T \\cdot z_t + \\gamma_1^T \\cdot x_t$$\n",
    "\n",
    "donde $z_t$ es una variable auxiliar binaria que toma valor 1 cuando $x_t>0$ o cero cuando $x_t=0$.\n",
    "\n",
    "Por otro lado, sea $v$ un vector de costes de mantenimiento para cada cuenta 1 y 2, el coste de mantenimiento para cada instante de tiempo es:\n",
    "\n",
    "$$H(b_t) = v^T \\cdot b_t$$\n",
    "\n",
    "asumiendo que $b_t >0$, es decir, que nuestro saldo va a ser siempre positivo que será lo que nos interese en la mayoría de las ocasiones. De lo contrario, se podría utilizar:\n",
    "\n",
    "$$H(b_t) = z_t \\cdot v^T \\cdot b_t + (1 - z_t) \\cdot u^T \\cdot b_t$$\n",
    "\n",
    "donde $z_t$ es otra variable auxiliar que toma valor 1 cuando $b_t>0$ o cero cuando $b_t<0$."
   ]
  },
  {
   "cell_type": "code",
   "execution_count": null,
   "metadata": {},
   "outputs": [],
   "source": [
    "# Creamos un vector v con los costes de mantenimiento y dimension (m, 1)\n"
   ]
  },
  {
   "cell_type": "code",
   "execution_count": null,
   "metadata": {},
   "outputs": [],
   "source": [
    "# Presentamos la dimension (shape) de bal y v para ver si cuadra nº col de bal con nº filas de v\n"
   ]
  },
  {
   "cell_type": "code",
   "execution_count": null,
   "metadata": {},
   "outputs": [],
   "source": [
    "# Multiplicando matriz de saldo 5x2 multiplicado por vector 2x1 da como resultado vector 5x1 de costes de mantemnimiento cman\n"
   ]
  },
  {
   "cell_type": "code",
   "execution_count": null,
   "metadata": {},
   "outputs": [],
   "source": [
    "# Sumando los valores del vector cman obtenemos los costes totales.\n"
   ]
  },
  {
   "cell_type": "code",
   "execution_count": null,
   "metadata": {},
   "outputs": [],
   "source": [
    "# Para calcular los costes de transacción partimos del plan X\n"
   ]
  },
  {
   "cell_type": "code",
   "execution_count": null,
   "metadata": {},
   "outputs": [],
   "source": [
    "# Para calcular los costes fijos de transacción utilizamos la función sign(X) para obtener Z con ceros \n",
    "# si la transacción es cero o unos si la transacción es mayor que cero\n"
   ]
  },
  {
   "cell_type": "code",
   "execution_count": null,
   "metadata": {},
   "outputs": [],
   "source": [
    "# Creamos un vector gzero con valores 20 y 50 y dimension (n,1)\n"
   ]
  },
  {
   "cell_type": "code",
   "execution_count": null,
   "metadata": {},
   "outputs": [],
   "source": [
    "# Creamos un vector guno con valores 1 y 2 y dimension (n,1)\n"
   ]
  },
  {
   "cell_type": "code",
   "execution_count": null,
   "metadata": {},
   "outputs": [],
   "source": [
    "# Calculamos ctrans a partir de Z por gzero y X por guno\n"
   ]
  },
  {
   "cell_type": "code",
   "execution_count": null,
   "metadata": {},
   "outputs": [],
   "source": [
    "# Ahora podemos calcular los costes totales sumando cman y ctrans para obtener vector c\n"
   ]
  },
  {
   "cell_type": "markdown",
   "metadata": {},
   "source": [
    "**Resumen hasta el momento:** Hemos visto como\n",
    "\n",
    "-Definir un sistema de tesorería a partir de un grafo y una matriz de incidencia A.\n",
    "\n",
    "-Calcular el saldo de caja B esperado para un determinado plan X.\n",
    "\n",
    "-Calcular los costes asociados al plan X a partir de los vectores **$\\gamma_0$, $\\gamma_1$** y **$v$**."
   ]
  },
  {
   "cell_type": "markdown",
   "metadata": {},
   "source": [
    "** Ejercicio.** Crea una matriz F de dimension $5\\times 2$ con valores aleatorios normales (0,1) para dos cuentas durante un period P = 5. Crea una matriz X de dimension $5\\times 2$ con ceros equivalente a dejar evolucionar el sistema de tesorería sin ninguna acción de control. Calcula el saldo esperado y los costes totales a partir de los valores anteriores de **$\\gamma_0$, $\\gamma_1$** y **$v$**."
   ]
  },
  {
   "cell_type": "code",
   "execution_count": null,
   "metadata": {},
   "outputs": [],
   "source": [
    "# Fijamos seed(1) y creamos F a partir de P * m valores aleatorios y aplicamos reshape\n"
   ]
  },
  {
   "cell_type": "code",
   "execution_count": null,
   "metadata": {},
   "outputs": [],
   "source": [
    "# Creamos X con ceros y B a partir de la función balance(b0, A, X, F)\n"
   ]
  },
  {
   "cell_type": "code",
   "execution_count": null,
   "metadata": {},
   "outputs": [],
   "source": [
    "# Calculamos los costes ctrans, cman y c como antes\n",
    "# Primero Z aunque sea cero y luego ctrans y cman con np.dot\n"
   ]
  },
  {
   "cell_type": "markdown",
   "metadata": {},
   "source": []
  }
 ],
 "metadata": {
  "kernelspec": {
   "display_name": "Python 3",
   "language": "python",
   "name": "python3"
  },
  "language_info": {
   "codemirror_mode": {
    "name": "ipython",
    "version": 3
   },
   "file_extension": ".py",
   "mimetype": "text/x-python",
   "name": "python",
   "nbconvert_exporter": "python",
   "pygments_lexer": "ipython3",
   "version": "3.6.1"
  }
 },
 "nbformat": 4,
 "nbformat_minor": 2
}
